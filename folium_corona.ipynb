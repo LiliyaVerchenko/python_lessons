{
 "cells": [
  {
   "cell_type": "code",
   "execution_count": 72,
   "metadata": {},
   "outputs": [],
   "source": [
    "import requests\n",
    "from bs4 import BeautifulSoup\n",
    "import pandas as pd\n",
    "\n",
    "r = requests.get('https://www.worldometers.info/coronavirus/')\n",
    "soup = BeautifulSoup(r.text, 'lxml')\n"
   ]
  },
  {
   "cell_type": "code",
   "execution_count": 75,
   "metadata": {},
   "outputs": [],
   "source": [
    "df = pd.read_html('https://www.worldometers.info/coronavirus/')[0]"
   ]
  },
  {
   "cell_type": "code",
   "execution_count": 76,
   "metadata": {},
   "outputs": [
    {
     "data": {
      "text/html": [
       "<div>\n",
       "<style scoped>\n",
       "    .dataframe tbody tr th:only-of-type {\n",
       "        vertical-align: middle;\n",
       "    }\n",
       "\n",
       "    .dataframe tbody tr th {\n",
       "        vertical-align: top;\n",
       "    }\n",
       "\n",
       "    .dataframe thead th {\n",
       "        text-align: right;\n",
       "    }\n",
       "</style>\n",
       "<table border=\"1\" class=\"dataframe\">\n",
       "  <thead>\n",
       "    <tr style=\"text-align: right;\">\n",
       "      <th></th>\n",
       "      <th>Country,Other</th>\n",
       "      <th>TotalCases</th>\n",
       "      <th>NewCases</th>\n",
       "      <th>TotalDeaths</th>\n",
       "      <th>NewDeaths</th>\n",
       "      <th>TotalRecovered</th>\n",
       "      <th>ActiveCases</th>\n",
       "      <th>Serious,Critical</th>\n",
       "      <th>Tot Cases/1M pop</th>\n",
       "    </tr>\n",
       "  </thead>\n",
       "  <tbody>\n",
       "    <tr>\n",
       "      <td>0</td>\n",
       "      <td>China</td>\n",
       "      <td>80824</td>\n",
       "      <td>+11</td>\n",
       "      <td>3189.0</td>\n",
       "      <td>13.0</td>\n",
       "      <td>65573.0</td>\n",
       "      <td>12062</td>\n",
       "      <td>3610.0</td>\n",
       "      <td>56.2</td>\n",
       "    </tr>\n",
       "    <tr>\n",
       "      <td>1</td>\n",
       "      <td>Italy</td>\n",
       "      <td>21157</td>\n",
       "      <td>+3,497</td>\n",
       "      <td>1441.0</td>\n",
       "      <td>175.0</td>\n",
       "      <td>1966.0</td>\n",
       "      <td>17750</td>\n",
       "      <td>1518.0</td>\n",
       "      <td>349.9</td>\n",
       "    </tr>\n",
       "    <tr>\n",
       "      <td>2</td>\n",
       "      <td>Iran</td>\n",
       "      <td>12729</td>\n",
       "      <td>+1,365</td>\n",
       "      <td>611.0</td>\n",
       "      <td>97.0</td>\n",
       "      <td>4339.0</td>\n",
       "      <td>7779</td>\n",
       "      <td>NaN</td>\n",
       "      <td>151.5</td>\n",
       "    </tr>\n",
       "    <tr>\n",
       "      <td>3</td>\n",
       "      <td>S. Korea</td>\n",
       "      <td>8086</td>\n",
       "      <td>+107</td>\n",
       "      <td>72.0</td>\n",
       "      <td>5.0</td>\n",
       "      <td>714.0</td>\n",
       "      <td>7300</td>\n",
       "      <td>59.0</td>\n",
       "      <td>157.7</td>\n",
       "    </tr>\n",
       "    <tr>\n",
       "      <td>4</td>\n",
       "      <td>Spain</td>\n",
       "      <td>6313</td>\n",
       "      <td>+1,081</td>\n",
       "      <td>193.0</td>\n",
       "      <td>60.0</td>\n",
       "      <td>517.0</td>\n",
       "      <td>5603</td>\n",
       "      <td>293.0</td>\n",
       "      <td>135.0</td>\n",
       "    </tr>\n",
       "    <tr>\n",
       "      <td>...</td>\n",
       "      <td>...</td>\n",
       "      <td>...</td>\n",
       "      <td>...</td>\n",
       "      <td>...</td>\n",
       "      <td>...</td>\n",
       "      <td>...</td>\n",
       "      <td>...</td>\n",
       "      <td>...</td>\n",
       "      <td>...</td>\n",
       "    </tr>\n",
       "    <tr>\n",
       "      <td>146</td>\n",
       "      <td>Suriname</td>\n",
       "      <td>1</td>\n",
       "      <td>NaN</td>\n",
       "      <td>NaN</td>\n",
       "      <td>NaN</td>\n",
       "      <td>NaN</td>\n",
       "      <td>1</td>\n",
       "      <td>NaN</td>\n",
       "      <td>NaN</td>\n",
       "    </tr>\n",
       "    <tr>\n",
       "      <td>147</td>\n",
       "      <td>Eswatini</td>\n",
       "      <td>1</td>\n",
       "      <td>+1</td>\n",
       "      <td>NaN</td>\n",
       "      <td>NaN</td>\n",
       "      <td>NaN</td>\n",
       "      <td>1</td>\n",
       "      <td>NaN</td>\n",
       "      <td>0.9</td>\n",
       "    </tr>\n",
       "    <tr>\n",
       "      <td>148</td>\n",
       "      <td>Togo</td>\n",
       "      <td>1</td>\n",
       "      <td>NaN</td>\n",
       "      <td>NaN</td>\n",
       "      <td>NaN</td>\n",
       "      <td>NaN</td>\n",
       "      <td>1</td>\n",
       "      <td>NaN</td>\n",
       "      <td>0.1</td>\n",
       "    </tr>\n",
       "    <tr>\n",
       "      <td>149</td>\n",
       "      <td>U.S. Virgin Islands</td>\n",
       "      <td>1</td>\n",
       "      <td>+1</td>\n",
       "      <td>NaN</td>\n",
       "      <td>NaN</td>\n",
       "      <td>NaN</td>\n",
       "      <td>1</td>\n",
       "      <td>NaN</td>\n",
       "      <td>NaN</td>\n",
       "    </tr>\n",
       "    <tr>\n",
       "      <td>150</td>\n",
       "      <td>Total:</td>\n",
       "      <td>155818</td>\n",
       "      <td>10347</td>\n",
       "      <td>5814.0</td>\n",
       "      <td>398.0</td>\n",
       "      <td>74276.0</td>\n",
       "      <td>75728</td>\n",
       "      <td>5925.0</td>\n",
       "      <td>20.0</td>\n",
       "    </tr>\n",
       "  </tbody>\n",
       "</table>\n",
       "<p>151 rows × 9 columns</p>\n",
       "</div>"
      ],
      "text/plain": [
       "           Country,Other  TotalCases NewCases  TotalDeaths  NewDeaths  \\\n",
       "0                  China       80824      +11       3189.0       13.0   \n",
       "1                  Italy       21157   +3,497       1441.0      175.0   \n",
       "2                   Iran       12729   +1,365        611.0       97.0   \n",
       "3               S. Korea        8086     +107         72.0        5.0   \n",
       "4                  Spain        6313   +1,081        193.0       60.0   \n",
       "..                   ...         ...      ...          ...        ...   \n",
       "146             Suriname           1      NaN          NaN        NaN   \n",
       "147             Eswatini           1       +1          NaN        NaN   \n",
       "148                 Togo           1      NaN          NaN        NaN   \n",
       "149  U.S. Virgin Islands           1       +1          NaN        NaN   \n",
       "150               Total:      155818    10347       5814.0      398.0   \n",
       "\n",
       "     TotalRecovered  ActiveCases  Serious,Critical  Tot Cases/1M pop  \n",
       "0           65573.0        12062            3610.0              56.2  \n",
       "1            1966.0        17750            1518.0             349.9  \n",
       "2            4339.0         7779               NaN             151.5  \n",
       "3             714.0         7300              59.0             157.7  \n",
       "4             517.0         5603             293.0             135.0  \n",
       "..              ...          ...               ...               ...  \n",
       "146             NaN            1               NaN               NaN  \n",
       "147             NaN            1               NaN               0.9  \n",
       "148             NaN            1               NaN               0.1  \n",
       "149             NaN            1               NaN               NaN  \n",
       "150         74276.0        75728            5925.0              20.0  \n",
       "\n",
       "[151 rows x 9 columns]"
      ]
     },
     "execution_count": 76,
     "metadata": {},
     "output_type": "execute_result"
    }
   ],
   "source": [
    "df"
   ]
  },
  {
   "cell_type": "code",
   "execution_count": 32,
   "metadata": {},
   "outputs": [],
   "source": [
    "# import geocoder\n",
    "# lat = []\n",
    "# lng = []\n",
    "# for i in range(len(pickled)):\n",
    "#     g = geocoder.arcgis(pickled['Country,Other'].iloc[i])\n",
    "#     lat.append(g.json['lat'])\n",
    "#     lng.append(g.json['lng'])\n",
    "\n",
    "# pickled['lat'] = lat\n",
    "# pickled['lng'] = lng"
   ]
  },
  {
   "cell_type": "code",
   "execution_count": 94,
   "metadata": {},
   "outputs": [
    {
     "data": {
      "text/plain": [
       "{'address': 'Spain',\n",
       " 'bbox': {'northeast': [49.88794966000003, 6.013936895000061],\n",
       "  'southwest': [30.567949660000036, -13.30606310499994]},\n",
       " 'confidence': 1,\n",
       " 'lat': 40.227949660000036,\n",
       " 'lng': -3.6460631049999392,\n",
       " 'ok': True,\n",
       " 'quality': 'Locality',\n",
       " 'raw': {'name': 'Spain',\n",
       "  'extent': {'xmin': -13.30606310499994,\n",
       "   'ymin': 30.567949660000036,\n",
       "   'xmax': 6.013936895000061,\n",
       "   'ymax': 49.88794966000003},\n",
       "  'feature': {'geometry': {'x': -3.6460631049999392, 'y': 40.227949660000036},\n",
       "   'attributes': {'Score': 100, 'Addr_Type': 'Locality'}}},\n",
       " 'score': 100,\n",
       " 'status': 'OK'}"
      ]
     },
     "execution_count": 94,
     "metadata": {},
     "output_type": "execute_result"
    }
   ],
   "source": [
    "import geocoder\n",
    "g = geocoder.arcgis('Spain')\n",
    "g.json"
   ]
  },
  {
   "cell_type": "code",
   "execution_count": 77,
   "metadata": {},
   "outputs": [],
   "source": [
    "pickled = pd.read_pickle(\"./coronavirus.pkl\")\n",
    "df['lat'] = pickled['lat']\n",
    "df['lng'] = pickled['lng'] "
   ]
  },
  {
   "cell_type": "code",
   "execution_count": 80,
   "metadata": {
    "scrolled": true
   },
   "outputs": [
    {
     "data": {
      "text/html": [
       "<div>\n",
       "<style scoped>\n",
       "    .dataframe tbody tr th:only-of-type {\n",
       "        vertical-align: middle;\n",
       "    }\n",
       "\n",
       "    .dataframe tbody tr th {\n",
       "        vertical-align: top;\n",
       "    }\n",
       "\n",
       "    .dataframe thead th {\n",
       "        text-align: right;\n",
       "    }\n",
       "</style>\n",
       "<table border=\"1\" class=\"dataframe\">\n",
       "  <thead>\n",
       "    <tr style=\"text-align: right;\">\n",
       "      <th></th>\n",
       "      <th>Country,Other</th>\n",
       "      <th>ratio</th>\n",
       "    </tr>\n",
       "  </thead>\n",
       "  <tbody>\n",
       "    <tr>\n",
       "      <td>0</td>\n",
       "      <td>China</td>\n",
       "      <td>3.95</td>\n",
       "    </tr>\n",
       "    <tr>\n",
       "      <td>1</td>\n",
       "      <td>Italy</td>\n",
       "      <td>6.81</td>\n",
       "    </tr>\n",
       "    <tr>\n",
       "      <td>2</td>\n",
       "      <td>Iran</td>\n",
       "      <td>4.80</td>\n",
       "    </tr>\n",
       "    <tr>\n",
       "      <td>3</td>\n",
       "      <td>S. Korea</td>\n",
       "      <td>0.89</td>\n",
       "    </tr>\n",
       "    <tr>\n",
       "      <td>4</td>\n",
       "      <td>Spain</td>\n",
       "      <td>3.06</td>\n",
       "    </tr>\n",
       "  </tbody>\n",
       "</table>\n",
       "</div>"
      ],
      "text/plain": [
       "  Country,Other  ratio\n",
       "0         China   3.95\n",
       "1         Italy   6.81\n",
       "2          Iran   4.80\n",
       "3      S. Korea   0.89\n",
       "4         Spain   3.06"
      ]
     },
     "execution_count": 80,
     "metadata": {},
     "output_type": "execute_result"
    }
   ],
   "source": [
    "df['ratio'] = round(df['TotalDeaths']/df['TotalCases']*100, 2)\n",
    "df[['Country,Other', 'ratio', ]].dropna().head()\n",
    "\n",
    " "
   ]
  },
  {
   "cell_type": "code",
   "execution_count": 81,
   "metadata": {},
   "outputs": [],
   "source": [
    "from math import ceil\n",
    "def get_radius(rat):\n",
    "    if rat > 10:\n",
    "        return 10\n",
    "    elif rat < 1:\n",
    "        return 1\n",
    "    else:\n",
    "        return ceil(rat)"
   ]
  },
  {
   "cell_type": "code",
   "execution_count": 83,
   "metadata": {},
   "outputs": [
    {
     "data": {
      "text/plain": [
       "0    26.0\n",
       "1     7.0\n",
       "2     4.0\n",
       "3     3.0\n",
       "4     2.0\n",
       "Name: percent, dtype: float64"
      ]
     },
     "execution_count": 83,
     "metadata": {},
     "output_type": "execute_result"
    }
   ],
   "source": [
    "dropped = df[['Country,Other', 'ratio', 'lat', 'lng', 'TotalCases']].dropna()\n",
    "dropped['percent'] = round(dropped['TotalCases']/dropped['TotalCases'].sum(), 2)*100\n",
    "dropped['percent'].head()"
   ]
  },
  {
   "cell_type": "code",
   "execution_count": 91,
   "metadata": {},
   "outputs": [],
   "source": [
    "import folium\n",
    "fol_map = folium.Map(location=[36.567348, 103.930027], zoom_start=2)\n",
    "for lat, lon, percent, total, country in zip(\n",
    "                            dropped['lat'].tolist(), \n",
    "                            dropped['lng'].tolist(), \n",
    "                            dropped['percent'].tolist(),\n",
    "                            dropped['TotalCases'].tolist(),\n",
    "                            dropped['Country,Other'].tolist()\n",
    "                                 ):\n",
    "    folium.CircleMarker(location=[lat, lon], radius = get_radius(percent), popup= str(country)+' ' + str(total)+\" total cases\").add_to(fol_map)"
   ]
  },
  {
   "cell_type": "code",
   "execution_count": 92,
   "metadata": {},
   "outputs": [
    {
     "data": {
      "text/html": [
       "<div style=\"width:100%;\"><div style=\"position:relative;width:100%;height:0;padding-bottom:60%;\"><iframe src=\"data:text/html;charset=utf-8;base64,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\" style=\"position:absolute;width:100%;height:100%;left:0;top:0;border:none !important;\" allowfullscreen webkitallowfullscreen mozallowfullscreen></iframe></div></div>"
      ],
      "text/plain": [
       "<folium.folium.Map at 0x7fdc01290c90>"
      ]
     },
     "execution_count": 92,
     "metadata": {},
     "output_type": "execute_result"
    }
   ],
   "source": [
    "fol_map"
   ]
  }
 ],
 "metadata": {
  "kernelspec": {
   "display_name": "Python 3",
   "language": "python",
   "name": "python3"
  },
  "language_info": {
   "codemirror_mode": {
    "name": "ipython",
    "version": 3
   },
   "file_extension": ".py",
   "mimetype": "text/x-python",
   "name": "python",
   "nbconvert_exporter": "python",
   "pygments_lexer": "ipython3",
   "version": "3.7.4"
  }
 },
 "nbformat": 4,
 "nbformat_minor": 2
}
