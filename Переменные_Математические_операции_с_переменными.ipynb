{
 "cells": [
  {
   "cell_type": "markdown",
   "metadata": {
    "colab_type": "text",
    "id": "UOPZUO6a05qn"
   },
   "source": [
    "## Переменные. Математические операции с переменными"
   ]
  },
  {
   "cell_type": "markdown",
   "metadata": {
    "colab_type": "text",
    "id": "IbSXJb2bmija"
   },
   "source": [
    "Коротко о том, что из себя представляет язык Python (или Питон)"
   ]
  },
  {
   "cell_type": "markdown",
   "metadata": {
    "colab_type": "text",
    "id": "oWLYBIuNmste"
   },
   "source": [
    "Мы используем ресурс Google Collab для того, чтобы сделать ваши первые шаги в языке Пайтон более приятными и доступными. \n",
    "\n",
    "Вообще, в рамках курса мы работаем с кодом локально, т.е устанавливая все необходимые программы на компьютер. Это обязательно нужно будет сделать, если вы хотите успешной пройти курс и освоить программирование. Однако скачивание и установка необходимого ПО может занять время и силы. Поэтому тем, кто этого ещё не сделал, я предлагаю воспользоваться этим сервисом для того, чтобы в начале сосредоточиться на изучении языка, а не на решении смежных вопросов. \n",
    "\n",
    "В правом верхнем углу страницы вы можете найти кнопку **+ Code**\n",
    "Используйте её для создания новой ячейки. Вводите или копируйте код, который мы разбираем на вебинаре и нажимайте на кнопку запуска слева.   \n"
   ]
  },
  {
   "cell_type": "markdown",
   "metadata": {
    "colab_type": "text",
    "id": "tfpOZ5SDo6nF"
   },
   "source": [
    "Первая программа, которую мы напишем, будет по традиции называтся **Hello World**. Это самый первый шаг, с которого начинается погружение в мир любого языка программирования. Питон не исключение. Более того, если до этого вы уже писали на каком-то другом ЯП кроме питона, то этот прекрасный змей может приятно удивить вас своей элегантностью и простотой, с которой можно запускать программы и писать код. Приступим:"
   ]
  },
  {
   "cell_type": "code",
   "execution_count": 2,
   "metadata": {
    "colab": {
     "base_uri": "https://localhost:8080/",
     "height": 34
    },
    "colab_type": "code",
    "id": "9NjgJ6HWnX1H",
    "outputId": "9cce54d2-4a26-45f4-e26c-5a241c20b20c"
   },
   "outputs": [
    {
     "name": "stdout",
     "output_type": "stream",
     "text": [
      "Hello World!\n"
     ]
    }
   ],
   "source": [
    "print('Hello World!')"
   ]
  },
  {
   "cell_type": "markdown",
   "metadata": {
    "colab_type": "text",
    "id": "oYASdSgkpy3r"
   },
   "source": [
    "Легко и просто мы вывели на экран нашу первую программу. Сначала мы написали ключевое слово print, которое говорит компьютеру, что сейчас мы будем что-то выводить на экран. А внутри скобок, этим что-то стала строка Hello World!\n",
    "Важный момент! Мы поместили нашу строку в одинарные кавычки. Почему? Потому что если не помещать строки в кавычки, то компьютер будет думать, что это переменная. Тогда он начнет ругатся и выдавать ошибку, потому что такой переменной нет. Впрочем, до переменных мы ещё обязательно дойдем. А сначала займемся простой математикой\n",
    "\n",
    "Если  нужно  перемножить  два  числа,  к  примеру  узнать,  сколько  будет  8 × 3,57, мы обычно пользуемся калькулятором либо берем ручку и умно-жаем в столбик на листе бумаги. А что если использовать для подсчетов  Python"
   ]
  },
  {
   "cell_type": "code",
   "execution_count": 3,
   "metadata": {
    "colab": {
     "base_uri": "https://localhost:8080/",
     "height": 34
    },
    "colab_type": "code",
    "id": "WFNVnyKMs1IM",
    "outputId": "1ddb4e32-129e-44f5-997c-23eafa22af6e"
   },
   "outputs": [
    {
     "data": {
      "text/plain": [
       "28.56"
      ]
     },
     "execution_count": 3,
     "metadata": {
      "tags": []
     },
     "output_type": "execute_result"
    }
   ],
   "source": [
    "8*3.57"
   ]
  },
  {
   "cell_type": "markdown",
   "metadata": {
    "colab_type": "text",
    "id": "BI7H9o4ms7yb"
   },
   "source": [
    "Обратите  внимание,  что  при  записи  числа  3,57  используется  не  за-пятая,  а  точка.  Кроме  того,  в  Python  числа  перемножаются  с  помощью  звездочки (*), а не знака умножения (×).\n"
   ]
  },
  {
   "cell_type": "markdown",
   "metadata": {
    "colab_type": "text",
    "id": "OnhwPUSVtTUk"
   },
   "source": [
    "Представьте, что вы рыли яму и случайно нашли кошелек с 20 золо-тыми монетами. На следующий день вы тихонько залезли в подвал, где\n",
    "стоит изобретение вашего дедушки —  работающий на паровом ходу ме-ханизм для копирования предметов, и, на ваше счастье, в него удалось запихнуть все 20 монет. Раздался свист, потом щелчок, и устройство вы-дало еще 10 новеньких монеток.\n",
    "\n",
    "Сколько монет вы накопите, если будете проделывать эту операцию каждый день в течение года? \n",
    "На бумаге эти расчеты выглядят примерно так:\n",
    "\n",
    "\n",
    "*   10 × 365 = 3650\n",
    "*   20 + 3650 = 3670\n",
    "\n",
    "\n"
   ]
  },
  {
   "cell_type": "code",
   "execution_count": 4,
   "metadata": {
    "colab": {
     "base_uri": "https://localhost:8080/",
     "height": 34
    },
    "colab_type": "code",
    "id": "v8rTjDi-tVDV",
    "outputId": "4afc4efb-f61e-4181-818d-3ac7ea3a9ee1"
   },
   "outputs": [
    {
     "data": {
      "text/plain": [
       "3650"
      ]
     },
     "execution_count": 4,
     "metadata": {
      "tags": []
     },
     "output_type": "execute_result"
    }
   ],
   "source": [
    "10 * 365"
   ]
  },
  {
   "cell_type": "code",
   "execution_count": 5,
   "metadata": {
    "colab": {
     "base_uri": "https://localhost:8080/",
     "height": 34
    },
    "colab_type": "code",
    "id": "axTyQbJDt5K3",
    "outputId": "a675144e-7401-4a95-a5ab-66b538056104"
   },
   "outputs": [
    {
     "data": {
      "text/plain": [
       "3670"
      ]
     },
     "execution_count": 5,
     "metadata": {
      "tags": []
     },
     "output_type": "execute_result"
    }
   ],
   "source": [
    "20+3650"
   ]
  },
  {
   "cell_type": "markdown",
   "metadata": {
    "colab_type": "text",
    "id": "-TFw97GVt8EB"
   },
   "source": [
    "Но что если о вашем богатстве узнает пронырливая ворона? \n",
    "Предположим, она будет каждую неделю залетать в окно и красть по три монетки.\n",
    "\n",
    "Сколько у вас будет монет через год? В оболочке Python эти расчеты будут выглядеть так:\n",
    "\n"
   ]
  },
  {
   "cell_type": "code",
   "execution_count": 6,
   "metadata": {
    "colab": {
     "base_uri": "https://localhost:8080/",
     "height": 34
    },
    "colab_type": "code",
    "id": "h_IPdvPpt7JC",
    "outputId": "9d9dcd7f-c325-4b7f-9342-1793c6ee2bfd"
   },
   "outputs": [
    {
     "data": {
      "text/plain": [
       "156"
      ]
     },
     "execution_count": 6,
     "metadata": {
      "tags": []
     },
     "output_type": "execute_result"
    }
   ],
   "source": [
    "3*52"
   ]
  },
  {
   "cell_type": "code",
   "execution_count": 7,
   "metadata": {
    "colab": {
     "base_uri": "https://localhost:8080/",
     "height": 34
    },
    "colab_type": "code",
    "id": "52YTlJJ-uHGb",
    "outputId": "19b37a16-c0b7-486d-9ab4-d18d88619da5"
   },
   "outputs": [
    {
     "data": {
      "text/plain": [
       "3514"
      ]
     },
     "execution_count": 7,
     "metadata": {
      "tags": []
     },
     "output_type": "execute_result"
    }
   ],
   "source": [
    "3670-156"
   ]
  },
  {
   "cell_type": "markdown",
   "metadata": {
    "colab_type": "text",
    "id": "EXj-aK8ruyIm"
   },
   "source": [
    "### Операторы в Python\n",
    "\n",
    "Питон может складывать, вычитать, умножать, делить, возводить в степень числа. И это не полный список того, что он может, просто эти действия самые простые, поэтому давайте разберемся, как их выполнять "
   ]
  },
  {
   "cell_type": "markdown",
   "metadata": {
    "colab_type": "text",
    "id": "jCzlHgCXuSNY"
   },
   "source": [
    "<table class=\"src\" border=\"1\">\n",
    "<tbody>\n",
    "<tr style=\"background-color: #2b5b84;\"><th style=\"width: 10%;\"><span style=\"color: #ffff00;\">Оператор</span></th><th style=\"width: 45%;\"><span style=\"color: #ffff00;\">Описание</span></th><th><span style=\"color: #ffff00;\">Примеры</span></th></tr>\n",
    "<tr>\n",
    "<td style=\"background-color: #2b5b84; text-align: center;\"><strong><span style=\"color: #ffff00;\">+</span></strong></td>\n",
    "<td>Сложение - Суммирует значения слева и справа от оператора</td>\n",
    "<td>\n",
    "<p>15 + 5 в результате будет 20<br> 20 + -3 в результате будет 17<br> 13.4 + 7 в результате будет 20.4</p>\n",
    "</td>\n",
    "</tr>\n",
    "<tr>\n",
    "<td style=\"background-color: #2b5b84; text-align: center;\"><strong><span style=\"color: #ffff00;\">-</span></strong></td>\n",
    "<td>Вычитание - Вычитает правый операнд из левого</td>\n",
    "<td>15 - 5 в результате будет 10<br> 20 - -3 в результате будет 23<br> 13.4 - 7 в результате будет 6.4</td>\n",
    "</tr>\n",
    "<tr>\n",
    "<td style=\"background-color: #2b5b84; text-align: center;\"><strong><span style=\"color: #ffff00;\">*</span></strong></td>\n",
    "<td>Умножение - Перемножает операнды</td>\n",
    "<td>5 * 5 в результате будет 25<br>7 * 3.2 в результате будет 22.4<br>-3 * 12 в результате будет -36</td>\n",
    "</tr>\n",
    "<tr>\n",
    "<td style=\"background-color: #2b5b84; text-align: center;\"><strong><span style=\"color: #ffff00;\">/</span></strong></td>\n",
    "<td>Деление - Делит левый операнд на правый</td>\n",
    "<td>15 / 5 в результате будет 3<br>5 / 2 в результате будет 2 (В Python 2.x версии при делении двух целых чисел результат будет целое число)<br> 5.0 / 2 в результате будет 2.5 (Чтобы получить \"правильный\" результат хотя бы один операнд должен быть float)</td>\n",
    "<tr>\n",
    "<td style=\"background-color: #2b5b84; text-align: center;\"><strong><span style=\"color: #ffff00;\">**</span></strong></td>\n",
    "<td>Возведение в степень - возводит левый операнд в степень правого</td>\n",
    "<td>5 ** 2 в результате будет 25<br>2 ** 3 в результате будет 8<br>-3 ** 2 в результате будет -9</td>\n",
    "</tr>\n",
    "</tr>\n",
    "<tr>\n",
    "<td style=\"background-color: #2b5b84; text-align: center;\"><strong><span style=\"color: #ffff00;\">%</span></strong></td>\n",
    "<td>Деление по модулю - Делит левый операнд на правый и возвращает остаток.</td>\n",
    "<td>6 % 2 в результате будет 0<br>7 % 2 в результате будет 1<br>13.2 % 5 в результате 3.2</td>\n",
    "</tr>\n",
    "<tr>\n",
    "<td style=\"background-color: #2b5b84; text-align: center;\"><strong><span style=\"color: #ffff00;\">//</span></strong></td>\n",
    "<td>Целочисленное деление - Деление в котором возвращается только целая часть результата. Часть после запятой отбрасывается.</td>\n",
    "<td>12 // 5 в результате будет 2<br>4 // 3 в результате будет 1<br>25 // 6 в результате будет 4</td>\n",
    "</tr>\n",
    "</tbody>\n",
    "</table>"
   ]
  },
  {
   "cell_type": "markdown",
   "metadata": {
    "colab_type": "text",
    "id": "MCZdNkHcwKQU"
   },
   "source": [
    "Оператор **Деление по модулю** очень интересный. Его часто используют программисты, чтобы узнать четное число или нечетное. \n",
    "\n",
    "У четного при делении по модулю на 2 результат будет 0, а у нечетного 1\n",
    "\n"
   ]
  },
  {
   "cell_type": "markdown",
   "metadata": {
    "colab_type": "text",
    "id": "zPU_Vkg1xGCL"
   },
   "source": [
    "Порядок выполнения операций\n",
    "\n",
    "Операции —  это любые действия, которые совершаются с помощью операторов. \n",
    "Математические операции выполняются по очереди в зависимости от их приоритета (если не задать другую очередность с помощью скобок). Умножение  и  деление  имеют  более  высокий  приоритет,  чем  сложение  и  вычитание,  и  это  значит,  что  они  будут  выполняться  первыми.  Иначе  говоря, при вычислении математического выражения Python сначала умножит и разделит числа, а затем перейдет к сложению и вычитанию. \n",
    "\n",
    "Например,  в  этом  выражении  сперва  будут  перемножены  числа  30 и 20, а затем к их произведению будет прибавлено число 5"
   ]
  },
  {
   "cell_type": "code",
   "execution_count": 8,
   "metadata": {
    "colab": {
     "base_uri": "https://localhost:8080/",
     "height": 34
    },
    "colab_type": "code",
    "id": "DiDXqmCaxzsY",
    "outputId": "ebfa840c-cf94-478f-f84d-53706d33dfb7"
   },
   "outputs": [
    {
     "data": {
      "text/plain": [
       "605"
      ]
     },
     "execution_count": 8,
     "metadata": {
      "tags": []
     },
     "output_type": "execute_result"
    }
   ],
   "source": [
    "5 + 30 * 20"
   ]
  },
  {
   "cell_type": "markdown",
   "metadata": {
    "colab_type": "text",
    "id": "lQzyDUfgyTDc"
   },
   "source": [
    "По  сути  это  выражение  означает  «умножить  30  на  20  и  прибавить  к  результату  5».  Получается  605.  Однако  мы  можем  изменить  порядок  операций, заключив первые два числа в скобки. Вот так:"
   ]
  },
  {
   "cell_type": "code",
   "execution_count": 9,
   "metadata": {
    "colab": {
     "base_uri": "https://localhost:8080/",
     "height": 34
    },
    "colab_type": "code",
    "id": "Te8rzf1Zx2r5",
    "outputId": "58b97f88-0c27-4e14-ec48-82ca6868cb71"
   },
   "outputs": [
    {
     "data": {
      "text/plain": [
       "700"
      ]
     },
     "execution_count": 9,
     "metadata": {
      "tags": []
     },
     "output_type": "execute_result"
    }
   ],
   "source": [
    "(5 + 30) * 20"
   ]
  },
  {
   "cell_type": "markdown",
   "metadata": {
    "colab_type": "text",
    "id": "HKn662OxyndK"
   },
   "source": [
    "В  результате  получилось  700,  а  не  605,  поскольку  Python  выполняет операции в скобках прежде, чем операции вне скобок. \n",
    "\n",
    "Другими словами, это выражение означает «прибавить 5 к 30 и умножить результат на 20».\n",
    "\n",
    "Скобки могут быть вложенными, то есть внутри скобок могут стоять еще одни скобки:"
   ]
  },
  {
   "cell_type": "code",
   "execution_count": 10,
   "metadata": {
    "colab": {
     "base_uri": "https://localhost:8080/",
     "height": 34
    },
    "colab_type": "code",
    "id": "yRMKBRdNyuQl",
    "outputId": "b9fa3e3f-0680-42bc-8623-52c96746c2d9"
   },
   "outputs": [
    {
     "data": {
      "text/plain": [
       "70.0"
      ]
     },
     "execution_count": 10,
     "metadata": {
      "tags": []
     },
     "output_type": "execute_result"
    }
   ],
   "source": [
    "((5 + 30) * 20) / 10"
   ]
  },
  {
   "cell_type": "code",
   "execution_count": 11,
   "metadata": {
    "colab": {
     "base_uri": "https://localhost:8080/",
     "height": 34
    },
    "colab_type": "code",
    "id": "wrBlgPEhywiR",
    "outputId": "660d7718-2676-4ecf-bd0c-732738c1942b"
   },
   "outputs": [
    {
     "data": {
      "text/plain": [
       "65.0"
      ]
     },
     "execution_count": 11,
     "metadata": {
      "tags": []
     },
     "output_type": "execute_result"
    }
   ],
   "source": [
    "# а теперь посмотрим, как это будет выглядеть без скобок\n",
    "\n",
    "5 + 30 * 20 / 10"
   ]
  },
  {
   "cell_type": "markdown",
   "metadata": {
    "colab_type": "text",
    "id": "tnz8j7yo00N6"
   },
   "source": [
    "Запомните, что умножение и деление всегда выполняются прежде, чем сложение и вычитание, если не менять порядок вычислений с помощью скобок."
   ]
  },
  {
   "cell_type": "markdown",
   "metadata": {
    "colab_type": "text",
    "id": "SzY0bix2PATZ"
   },
   "source": [
    "### Решение задач\n",
    "\n",
    "1) Найти ответ \n",
    "\n",
    "![alt text](https://lms.skillfactory.ru/assets/courseware/v1/bd66d9520e44205e024494fe26c1f55b/asset-v1:SkillFactory+PY-34+19FEB2020+type@asset+block/Screenshot_2019-04-09_at_16.42.52.png)"
   ]
  },
  {
   "cell_type": "code",
   "execution_count": 27,
   "metadata": {
    "colab": {
     "base_uri": "https://localhost:8080/",
     "height": 34
    },
    "colab_type": "code",
    "id": "-Nafh1wQPUlq",
    "outputId": "bd6d98bf-83f6-4a99-e689-647da2234e79"
   },
   "outputs": [
    {
     "data": {
      "text/plain": [
       "17.414074767267998"
      ]
     },
     "execution_count": 27,
     "metadata": {
      "tags": []
     },
     "output_type": "execute_result"
    }
   ],
   "source": [
    "# Важно правильно поставить скобки! А ещё нужно вспомнить, что такое квадратный корень и как его представить в виде степени\n",
    "\n",
    "(4 + (5*60) - 17 + (65/4))**0.5\n",
    "\n",
    "#Питон имеет специальную функцию для округления дробных чисел: round(число, количество цифр)\n",
    "\n",
    "# round((4 + (5*60) - 17 + (65/4))**0.5, 3)"
   ]
  },
  {
   "cell_type": "markdown",
   "metadata": {
    "colab_type": "text",
    "id": "LuAOEURfRTj7"
   },
   "source": [
    "![alt text](https://lms.skillfactory.ru/assets/courseware/v1/4e5dd3e701139b139c0fd28e8c7207a8/asset-v1:SkillFactory+PY-34+19FEB2020+type@asset+block/Screenshot_2019-04-09_at_16.59.52.png)"
   ]
  },
  {
   "cell_type": "code",
   "execution_count": 28,
   "metadata": {
    "colab": {
     "base_uri": "https://localhost:8080/",
     "height": 34
    },
    "colab_type": "code",
    "id": "8G3Ie2yORW6V",
    "outputId": "b6f6e800-00b6-4d36-ae0b-dd2b02b77ed0"
   },
   "outputs": [
    {
     "data": {
      "text/plain": [
       "-4251528.0"
      ]
     },
     "execution_count": 28,
     "metadata": {
      "tags": []
     },
     "output_type": "execute_result"
    }
   ],
   "source": [
    "((((9**0.5)**3)**2)**2)/(-2**-3)"
   ]
  },
  {
   "cell_type": "markdown",
   "metadata": {
    "colab_type": "text",
    "id": "r2tlUY411Meh"
   },
   "source": [
    "### Переменные"
   ]
  },
  {
   "cell_type": "markdown",
   "metadata": {
    "colab_type": "text",
    "id": "e-BuD45q1Yva"
   },
   "source": [
    "В программировании слово переменная обозначает именованное место для  хранения  данных,  например  чисел,  текста,  списков  с  числами  или  символами и так далее. Также переменную можно рассматривать как ярлык, которым помечены некие данные.\n",
    "\n",
    "Например, на нашем складе лежит 500 пар кроссовок Nike. Давайте как-то зафиксируем эту информацию!"
   ]
  },
  {
   "cell_type": "code",
   "execution_count": 0,
   "metadata": {
    "colab": {},
    "colab_type": "code",
    "id": "clhEbE9a01h_"
   },
   "outputs": [],
   "source": [
    "nikes = 500"
   ]
  },
  {
   "cell_type": "markdown",
   "metadata": {
    "colab_type": "text",
    "id": "0yTc60ri1_nP"
   },
   "source": [
    "Чтобы создать переменную с именем **nikes**, нужно указать имя, поставить знак «равно» (=) и ввести соответствующие данные. Давайте создадим переменную nikes, указав, что ей соответствует значение 500 (однако из этого не следует, что другая переменная не может иметь такое же значение):"
   ]
  },
  {
   "cell_type": "code",
   "execution_count": 0,
   "metadata": {
    "colab": {},
    "colab_type": "code",
    "id": "WR7rgiGvFb7v"
   },
   "outputs": [],
   "source": [
    "найки = 500"
   ]
  },
  {
   "cell_type": "markdown",
   "metadata": {
    "colab_type": "text",
    "id": "gxMtCy1bJc_V"
   },
   "source": [
    "Чтобы напечатать значение нашей переменной, введите в оболочке Python  команду  print  и  следом  за  ней  —    имя  переменной  в  скобках.  Вот так:"
   ]
  },
  {
   "cell_type": "code",
   "execution_count": 14,
   "metadata": {
    "colab": {
     "base_uri": "https://localhost:8080/",
     "height": 34
    },
    "colab_type": "code",
    "id": "CaD8ESLMFe7A",
    "outputId": "a68389f6-1a3b-46d5-e8ab-d12eb90027b2"
   },
   "outputs": [
    {
     "name": "stdout",
     "output_type": "stream",
     "text": [
      "500\n"
     ]
    }
   ],
   "source": [
    "print(найки)"
   ]
  },
  {
   "cell_type": "markdown",
   "metadata": {
    "colab_type": "text",
    "id": "iy_tfKUtKGw0"
   },
   "source": [
    "Можно изменить значение переменной `nikes` —  сделать так, чтобы ей соответствовалидругие данные. Например, вот как заменить значение `nikes` числом 450"
   ]
  },
  {
   "cell_type": "code",
   "execution_count": 24,
   "metadata": {
    "colab": {
     "base_uri": "https://localhost:8080/",
     "height": 34
    },
    "colab_type": "code",
    "id": "y2GgXW0nJ-C8",
    "outputId": "74b8d1b9-167b-42fc-9be7-429cfedad926"
   },
   "outputs": [
    {
     "name": "stdout",
     "output_type": "stream",
     "text": [
      "450\n"
     ]
    }
   ],
   "source": [
    "nikes = 450\n",
    "print(nikes)"
   ]
  },
  {
   "cell_type": "markdown",
   "metadata": {
    "colab_type": "text",
    "id": "beH0z0ApHqun"
   },
   "source": [
    "### Немного об именах переменных\n",
    "\n",
    "Для создания корректных имен перемен­ных надо следовать всего нескольким правилам; о некорректном имени Python вам сообщит, выведя ошибку\n",
    "\n",
    "Правила для создания корректных имен переменных:\n",
    "\n",
    "Правила наименования переменных\n",
    "\n",
    "Есть несколько правил при определении переменных:\n",
    "\n",
    "            имена переменных не должны повторять уже встроенные в Python имена, например, print, str, in и т.д.;\n",
    "            имена переменных могут содержать только буквы, цифры и нижнее подчёркивание; \n",
    "            имена переменных не должны начинаться с цифры;\n",
    "            очень желательно, чтобы имена переменных выражали суть переменной и не были слишком длинными.\n",
    "\n",
    "Если компьютер принял переменную это не значит, что это имя хорошее! \n",
    "Переменная с именем **aklkjkll112312** будет понятна компьютеру, но ну будет понятна человеку. Поэтом при создании переменных вы должны ориентироваться на своего читателя. Порой вы будете единственным читателем вашего кода, но поверьте(!), вернувшись через месяц для того, чтобы немного изменить свою программу, вы ужаснетесь, насколько там все непонятно! Поэтому, если вы с любовью относитесь к себе и своим коллегам, не пренебрегайте правилами и договоренностями. Они значительно упрощают вашу жизнь. Подробнее про имена переменных тут\n",
    "http://pythonlearn.ru/python-dlya-nachinayushhix/imena-dlya-peremennyx-v-python/\n",
    "\n",
    "\n",
    "\n",
    "\n",
    "\n"
   ]
  },
  {
   "cell_type": "markdown",
   "metadata": {
    "colab_type": "text",
    "id": "nNd9qumvJXBY"
   },
   "source": [
    "Итак, у нас есть 500 кроссовок фирмы найк. Но ведь есть же и другие бренды, правильно? Пускай у нас ещё будут кроссовки adidas в количестве 400 штук. "
   ]
  },
  {
   "cell_type": "code",
   "execution_count": 0,
   "metadata": {
    "colab": {},
    "colab_type": "code",
    "id": "c_bspFdaJU2t"
   },
   "outputs": [],
   "source": [
    "adidas = 400"
   ]
  },
  {
   "cell_type": "markdown",
   "metadata": {
    "colab_type": "text",
    "id": "hzF_7wfGJ3IQ"
   },
   "source": [
    "Теперь применим математические операции, которые мы изучили на наших переменных\n",
    "\n",
    "1) Мы можем посчитать общее количество кроссовок, которое у нас есть\n",
    "\n",
    "2) Мы можем посчитать выручку, которую мы поулучим, реализовав наш товар по стоимости 5 тысяч и 4 тысячи рублей за пару\n",
    "\n",
    "3) Мы можем узнать сколько мы получим прибыли после уплаты налога, который пусть будет 13%"
   ]
  },
  {
   "cell_type": "code",
   "execution_count": 17,
   "metadata": {
    "colab": {
     "base_uri": "https://localhost:8080/",
     "height": 34
    },
    "colab_type": "code",
    "id": "g5e_TOJzJ17H",
    "outputId": "bcdf4f09-5edd-4331-a5db-228e147c7070"
   },
   "outputs": [
    {
     "data": {
      "text/plain": [
       "900"
      ]
     },
     "execution_count": 17,
     "metadata": {
      "tags": []
     },
     "output_type": "execute_result"
    }
   ],
   "source": [
    "nikes + adidas"
   ]
  },
  {
   "cell_type": "code",
   "execution_count": 0,
   "metadata": {
    "colab": {},
    "colab_type": "code",
    "id": "PjU33GSqKont"
   },
   "outputs": [],
   "source": [
    "raw_income = (nikes * 5000) + (adidas*4000) "
   ]
  },
  {
   "cell_type": "code",
   "execution_count": 19,
   "metadata": {
    "colab": {
     "base_uri": "https://localhost:8080/",
     "height": 34
    },
    "colab_type": "code",
    "id": "cpKJ94UqKvKY",
    "outputId": "e6c01bb6-12d8-4d53-fc1e-ac9e0c4b3562"
   },
   "outputs": [
    {
     "name": "stdout",
     "output_type": "stream",
     "text": [
      "3567000.0\n"
     ]
    }
   ],
   "source": [
    "after_nalog = raw_income * (1- 0.13)\n",
    "print(after_nalog)"
   ]
  },
  {
   "cell_type": "code",
   "execution_count": 20,
   "metadata": {
    "colab": {
     "base_uri": "https://localhost:8080/",
     "height": 34
    },
    "colab_type": "code",
    "id": "5CgALkAwMkB1",
    "outputId": "d4a50a51-9af2-4c45-9e88-15858bdf511a"
   },
   "outputs": [
    {
     "data": {
      "text/plain": [
       "3567000.0"
      ]
     },
     "execution_count": 20,
     "metadata": {
      "tags": []
     },
     "output_type": "execute_result"
    }
   ],
   "source": [
    "after_nalog = raw_income - (raw_income * 0.13)\n",
    "after_nalog"
   ]
  },
  {
   "cell_type": "markdown",
   "metadata": {
    "colab_type": "text",
    "id": "QW2lvBqAK__4"
   },
   "source": [
    "Давайте введем небольшую вариативность в нашу программу. У функции `print()` есть функция-антагонист, которая позволяет вводить данные в программу с клавиатуры? Она называется `input()`. Но перед этим важно упопянуть такую особенность языка питон как **типизация**. У данных есть типы. Мы работали пока только со строками и числами, но типов данных гораздо больше. Компьютер не может интуитивно понять, что мы от него хотим в отличие от человека. Поэтому важно следить за типами данных, которые мы предоставляем нашей программе. Числа и строки это разные типы данных и работаем мы с ними по-разному."
   ]
  },
  {
   "cell_type": "code",
   "execution_count": 21,
   "metadata": {
    "colab": {
     "base_uri": "https://localhost:8080/",
     "height": 34
    },
    "colab_type": "code",
    "id": "SHVuXM9zQEsl",
    "outputId": "ee5029b5-5cec-4337-cdb0-6227a439a686"
   },
   "outputs": [
    {
     "data": {
      "text/plain": [
       "False"
      ]
     },
     "execution_count": 21,
     "metadata": {
      "tags": []
     },
     "output_type": "execute_result"
    }
   ],
   "source": [
    "'5' == 5 # == - это знак \"равно\". Один = обозначает присваивание переменной, поэтому чтобы проверять равенство используется =="
   ]
  },
  {
   "cell_type": "markdown",
   "metadata": {
    "colab_type": "text",
    "id": "xHqqtFexQXds"
   },
   "source": [
    "Поэтому чтобы превратить строку в число, мы можем использовать особую функцию `int()` в которую мы передадим строку, а на выходе получим число. Передадим означает, что мы поместим эту строку внутрь скобок."
   ]
  },
  {
   "cell_type": "code",
   "execution_count": 22,
   "metadata": {
    "colab": {
     "base_uri": "https://localhost:8080/",
     "height": 34
    },
    "colab_type": "code",
    "id": "vKT8gEf1RtrS",
    "outputId": "9ba57f77-19a7-414a-c0dc-5011af821bad"
   },
   "outputs": [
    {
     "data": {
      "text/plain": [
       "True"
      ]
     },
     "execution_count": 22,
     "metadata": {
      "tags": []
     },
     "output_type": "execute_result"
    }
   ],
   "source": [
    "int('5') == 5 # Ура, теперь верно!"
   ]
  },
  {
   "cell_type": "code",
   "execution_count": 23,
   "metadata": {
    "colab": {
     "base_uri": "https://localhost:8080/",
     "height": 34
    },
    "colab_type": "code",
    "id": "zibtqez5NMd_",
    "outputId": "9abc0e9e-d3a0-4739-e4c8-b01d43188795"
   },
   "outputs": [
    {
     "data": {
      "text/plain": [
       "3198000.0"
      ]
     },
     "execution_count": 23,
     "metadata": {
      "tags": []
     },
     "output_type": "execute_result"
    }
   ],
   "source": [
    "nalog = int(input('Укажите налоговую ставку в процентах: '))\n",
    "\n",
    "after_nalog = raw_income - (raw_income * nalog/100)\n",
    "after_nalog"
   ]
  },
  {
   "cell_type": "markdown",
   "metadata": {
    "colab_type": "text",
    "id": "jHDGw0nfR2qN"
   },
   "source": [
    "Дело в том, что функция `input()` возвращает нам строку, поэтому нам необходимо её обернуть в другую функцию - `int()`, чтобы она стала числом. "
   ]
  },
  {
   "cell_type": "markdown",
   "metadata": {
    "colab_type": "text",
    "id": "ADNddrtJf5qO"
   },
   "source": [
    "Если вы хотите понять, какой тип переменной перед вами, вы можете воспользоваться встроенной функцией type(). "
   ]
  },
  {
   "cell_type": "code",
   "execution_count": 32,
   "metadata": {
    "colab": {
     "base_uri": "https://localhost:8080/",
     "height": 34
    },
    "colab_type": "code",
    "id": "8i4tysbigAM8",
    "outputId": "27976162-35fe-46bc-82f9-f9ee5281ad6d"
   },
   "outputs": [
    {
     "data": {
      "text/plain": [
       "str"
      ]
     },
     "execution_count": 32,
     "metadata": {
      "tags": []
     },
     "output_type": "execute_result"
    }
   ],
   "source": [
    "type('Привет')"
   ]
  },
  {
   "cell_type": "code",
   "execution_count": 33,
   "metadata": {
    "colab": {
     "base_uri": "https://localhost:8080/",
     "height": 34
    },
    "colab_type": "code",
    "id": "Zxb8dErAgFjK",
    "outputId": "9b5709fc-fab7-4d49-f431-acc1f551556b"
   },
   "outputs": [
    {
     "data": {
      "text/plain": [
       "int"
      ]
     },
     "execution_count": 33,
     "metadata": {
      "tags": []
     },
     "output_type": "execute_result"
    }
   ],
   "source": [
    "type(4)"
   ]
  },
  {
   "cell_type": "code",
   "execution_count": 34,
   "metadata": {
    "colab": {
     "base_uri": "https://localhost:8080/",
     "height": 34
    },
    "colab_type": "code",
    "id": "vSfIGA9rgIgl",
    "outputId": "59d97929-9ba5-4cca-d8d5-80f2d45be681"
   },
   "outputs": [
    {
     "data": {
      "text/plain": [
       "float"
      ]
     },
     "execution_count": 34,
     "metadata": {
      "tags": []
     },
     "output_type": "execute_result"
    }
   ],
   "source": [
    "type(4.0)"
   ]
  },
  {
   "cell_type": "code",
   "execution_count": 35,
   "metadata": {
    "colab": {
     "base_uri": "https://localhost:8080/",
     "height": 34
    },
    "colab_type": "code",
    "id": "H58OjH-jgevp",
    "outputId": "78fa662e-39dd-4888-c5f2-16f2d2383ab3"
   },
   "outputs": [
    {
     "data": {
      "text/plain": [
       "True"
      ]
     },
     "execution_count": 35,
     "metadata": {
      "tags": []
     },
     "output_type": "execute_result"
    }
   ],
   "source": [
    "4.0 == 4"
   ]
  },
  {
   "cell_type": "markdown",
   "metadata": {
    "colab_type": "text",
    "id": "7fhDiWQug3w2"
   },
   "source": [
    "Важно держать в голове следующие правила работы с типами:\n",
    "\n",
    "            если хотя бы одна из переменных принадлежит к типу float, результат вычисления тоже получит тип float; \n",
    "            при операции деления результат всегда вернётся с типом float, даже если оба исходных числа принадлежат к типу int. \n",
    "\n",
    "К строковым (текстовым) переменным, как ни странно, тоже применимы некоторые из изученных операторов — это операторы + и *.  Так, оператор + «склеит» воедино две строки, а оператор * продублирует строку нужное количество раз, объединив результат в одну строку."
   ]
  },
  {
   "cell_type": "markdown",
   "metadata": {
    "colab_type": "text",
    "id": "90HstmIvTw9j"
   },
   "source": [
    "Давайте решим какую-нибудь задачу, в которой нам пригодится `input()`\n",
    "\n",
    "![alt text](https://lms.skillfactory.ru/assets/courseware/v1/422d0ebb90f89a15c0e4f3d573f27f69/asset-v1:SkillFactory+PY-34+19FEB2020+type@asset+block/Screenshot_2019-04-09_at_22.58.17.png)"
   ]
  },
  {
   "cell_type": "code",
   "execution_count": 29,
   "metadata": {
    "colab": {
     "base_uri": "https://localhost:8080/",
     "height": 52
    },
    "colab_type": "code",
    "id": "QrawYA3zWo2I",
    "outputId": "827f3e7a-e104-4423-e587-f0fcee660570"
   },
   "outputs": [
    {
     "name": "stdout",
     "output_type": "stream",
     "text": [
      "Введите X: 100500\n"
     ]
    },
    {
     "data": {
      "text/plain": [
       "113628013506.996"
      ]
     },
     "execution_count": 29,
     "metadata": {
      "tags": []
     },
     "output_type": "execute_result"
    }
   ],
   "source": [
    "x = int(input('Введите X: '))\n",
    "\n",
    "6.996 + 45 * (x/2)**2 + 2*x"
   ]
  },
  {
   "cell_type": "markdown",
   "metadata": {
    "colab_type": "text",
    "id": "1o0Bzv1odupO"
   },
   "source": [
    "Напишите программу, которая принимает на вход строку и целое число и выводит на экран эту строку, её длину и её длину в степени введённого целого числа. При введении, например, строки \"привет\" и числа 2 на экране должно быть выведено \"привет 6 36\". Названия переменных string и power. Для теста используйте значения string = 'Привет!', power = 5"
   ]
  },
  {
   "cell_type": "code",
   "execution_count": 31,
   "metadata": {
    "colab": {
     "base_uri": "https://localhost:8080/",
     "height": 69
    },
    "colab_type": "code",
    "id": "9bc5tgYpW9F4",
    "outputId": "c2e6862a-a29f-45f8-89f0-7d4695c02e27"
   },
   "outputs": [
    {
     "name": "stdout",
     "output_type": "stream",
     "text": [
      "Введите текст: екекек\n",
      "Введите степень: 10\n",
      "екекек  Степень:  10  Результат:  60466176\n"
     ]
    }
   ],
   "source": [
    "text = input('Введите текст: ')\n",
    "\n",
    "power = int(input('Введите степень: '))\n",
    "\n",
    "len_text = len(text)\n",
    "\n",
    "result = len_text**power\n",
    "\n",
    "print(text, ' Степень: ', power, ' Результат: ', result)"
   ]
  },
  {
   "cell_type": "code",
   "execution_count": 0,
   "metadata": {
    "colab": {},
    "colab_type": "code",
    "id": "HDOKkLU7e4w6"
   },
   "outputs": [],
   "source": []
  },
  {
   "cell_type": "markdown",
   "metadata": {
    "colab_type": "text",
    "id": "5Wa4R6fyhnc_"
   },
   "source": [
    "# Спасибо за внимание!\n",
    "\n",
    "Буду рад ответить на ваши вопросы и обсудить проблемы\n",
    "\n",
    "В вебинаре были взяты примеры из книги **Джейсона Бриггса \"Python для детей\"**  \n",
    "\n",
    "Также дял изучения основ питона и знакомства прикладными возможностями языка рекомендую книгу **Автоматизация рутинных задач с помощью Python. Эл Свейгарт**"
   ]
  },
  {
   "cell_type": "code",
   "execution_count": 0,
   "metadata": {
    "colab": {},
    "colab_type": "code",
    "id": "KvDpzm6Pi3pH"
   },
   "outputs": [],
   "source": []
  }
 ],
 "metadata": {
  "colab": {
   "name": "Переменные. Математические операции с переменными.ipynb",
   "provenance": []
  },
  "kernelspec": {
   "display_name": "Python 3",
   "language": "python",
   "name": "python3"
  },
  "language_info": {
   "codemirror_mode": {
    "name": "ipython",
    "version": 3
   },
   "file_extension": ".py",
   "mimetype": "text/x-python",
   "name": "python",
   "nbconvert_exporter": "python",
   "pygments_lexer": "ipython3",
   "version": "3.7.4"
  }
 },
 "nbformat": 4,
 "nbformat_minor": 1
}
