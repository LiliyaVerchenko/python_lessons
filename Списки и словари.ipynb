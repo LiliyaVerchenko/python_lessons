{
 "cells": [
  {
   "cell_type": "markdown",
   "metadata": {},
   "source": [
    "<h1><center>Погружение в структуры данных</center></h1>\n",
    "\n",
    "## Список\n",
    "\n",
    "Как только мы начинаем выходить за рамки написания простейших программ у нас возниает потребность в хранении коллекций или наборов данных. Для этого в языке Python предусмотрены 2 очень мощных по своим возможностям типа данных: списки и словари.\n",
    "\n",
    "\n",
    "\n",
    "\n",
    "**Список** в Python — это упорядоченная изменяемая коллекция объектов произвольных типов.\n",
    "\n",
    "\n",
    "\n",
    "\n",
    "В этом определении важна каждое слово. Мы будем к нему возвращаться по мере иллюстрации возможностей и свойств списков.\n",
    "\n",
    "\n",
    "\n",
    "* Когда мы называем список коллекцией, мы имеем в виду, что в одном списке может храниться множество объектов (например, чисел или строковых величин) \n",
    "\n",
    "\n",
    "* Говоря о том, что списки представляют собой упорядоченные коллекции, мы обращаем внимание на то, что каждый элемент в списке имеет свой порядковый номер.\n",
    "\n",
    "\n",
    "* Упоминание об изменяемости списков означает, что в процессе исполнения кода можно изменять состав элементов списка и последовательность их расположения.\n",
    "\n",
    "\n",
    "* Выражение «произвольных типов» означает, что в списке могут храниться данные, относящиеся к любым типам из тех, с которыми работает Python. *То есть это могут быть также другие списки и словари*\n",
    "\n",
    "\n",
    "Нам пригодится http://pythontutor.com/visualize.html#mode=edit\n",
    "\n"
   ]
  },
  {
   "cell_type": "markdown",
   "metadata": {},
   "source": [
    "<h2><center>Создание списков</center></h2>"
   ]
  },
  {
   "cell_type": "code",
   "execution_count": 1,
   "metadata": {},
   "outputs": [
    {
     "name": "stdout",
     "output_type": "stream",
     "text": [
      "[]\n"
     ]
    },
    {
     "data": {
      "text/plain": [
       "True"
      ]
     },
     "execution_count": 1,
     "metadata": {},
     "output_type": "execute_result"
    }
   ],
   "source": [
    "my_list = list()\n",
    "my_list1 = []\n",
    "print(my_list)\n",
    "my_list == my_list1\n"
   ]
  },
  {
   "cell_type": "code",
   "execution_count": 2,
   "metadata": {},
   "outputs": [
    {
     "data": {
      "text/plain": [
       "['с', 'п', 'и', 'с', 'о', 'к']"
      ]
     },
     "execution_count": 2,
     "metadata": {},
     "output_type": "execute_result"
    }
   ],
   "source": [
    "list('список')"
   ]
  },
  {
   "cell_type": "code",
   "execution_count": 3,
   "metadata": {},
   "outputs": [
    {
     "name": "stdout",
     "output_type": "stream",
     "text": [
      "['список']\n"
     ]
    }
   ],
   "source": [
    "b = []\n",
    "b.append('список') #команда append нужна для того, чтобы добавить в конец списка какое-то значение\n",
    "print(b)\n"
   ]
  },
  {
   "cell_type": "markdown",
   "metadata": {},
   "source": [
    "Списки, кортежи и строки являются примерами последовательностей. Но что такое последовательности и что в них такого особенного?\n",
    "\n",
    "Основные возможности – это проверка принадлежности (т.е. выражения **“in”** и **“not in”**) и оператор индексирования, позволяющий получить напрямую некоторый элемент последовательности. Также последовательности предоставляют операцию получения вырезки, которая позволяет получить вырезку последовательности, т.е. её фрагмент."
   ]
  },
  {
   "cell_type": "code",
   "execution_count": 29,
   "metadata": {},
   "outputs": [
    {
     "data": {
      "text/plain": [
       "False"
      ]
     },
     "execution_count": 29,
     "metadata": {},
     "output_type": "execute_result"
    }
   ],
   "source": [
    "'а' in b"
   ]
  },
  {
   "cell_type": "code",
   "execution_count": 31,
   "metadata": {},
   "outputs": [
    {
     "data": {
      "text/plain": [
       "True"
      ]
     },
     "execution_count": 31,
     "metadata": {},
     "output_type": "execute_result"
    }
   ],
   "source": [
    "'список' in b"
   ]
  },
  {
   "cell_type": "code",
   "execution_count": 33,
   "metadata": {},
   "outputs": [
    {
     "data": {
      "text/plain": [
       "'с'"
      ]
     },
     "execution_count": 33,
     "metadata": {},
     "output_type": "execute_result"
    }
   ],
   "source": [
    "list('список')[0]"
   ]
  },
  {
   "cell_type": "code",
   "execution_count": 34,
   "metadata": {},
   "outputs": [
    {
     "data": {
      "text/plain": [
       "['с', 'п', 'и']"
      ]
     },
     "execution_count": 34,
     "metadata": {},
     "output_type": "execute_result"
    }
   ],
   "source": [
    "list('список')[0:3]"
   ]
  },
  {
   "cell_type": "markdown",
   "metadata": {},
   "source": [
    "Списки хорошо сочетаются с циклами"
   ]
  },
  {
   "cell_type": "code",
   "execution_count": null,
   "metadata": {},
   "outputs": [],
   "source": [
    "a = [1, 5, 76, 12, 123, 333, 5, 6,7]\n",
    "\n",
    "for i in a:\n",
    "#     new = 'Груз весит ' + str(i) +  ' килограмм'\n",
    "    if i<100:\n",
    "        new = 'Груз весит {} килограмм'.format(i)\n",
    "    else:\n",
    "        print('Груз слишком большой')\n",
    "        break\n",
    "\n",
    "    print(new.upper())"
   ]
  },
  {
   "cell_type": "markdown",
   "metadata": {},
   "source": [
    "<h2><center>Методы  списков</center></h2>"
   ]
  },
  {
   "cell_type": "markdown",
   "metadata": {},
   "source": [
    "**list.append(x)**\n",
    "\n",
    "Добавляет элемент в конец списка. Эквивалентно a[len(a):] = [x].\n",
    "\n",
    "**list.extend(iterable)**\n",
    "\n",
    "Расширяет список добавлением всех элементов из итерации. Эквивалентно a[len(a):] = iterable.\n",
    "\n",
    "**list.insert(i, x)**\n",
    "\n",
    "Вставляет элемент в заданную позицию. Первый аргумент - это индекс элемента, перед которым происходит вставка, так a.insert(0, x) вставляет впереди списка, а a.insert(len(a), x) эквивалентно a.append(x).\n",
    "\n",
    "**list.remove(x)**\n",
    "\n",
    "Удаляет первый элемент из списка, чье значение равно x. Возникает ошибка, если такого элемента нет.\n",
    "\n",
    "**list.pop([i])**\n",
    "\n",
    "Удаляет элемент в заданной позиции в списке и возвращает его. \n",
    "Если индекс не указан, a.pop() удаляет и возвращает последний элемент в списке. \n",
    "(Квадратные скобки вокруг i в сигнатуре метода означают, что параметр необязательный, а не то, что вы должны вводить квадратные скобки в том месте. Вы часто увидите такую нотацию в Справке по библиотеке Python.)\n",
    "\n",
    "**list.index(x[, start[, end]])**\n",
    "\n",
    "Возвращает индекс (отсчет с нуля) первого элемента в списке, чье значение равно x. Возникает ValueError (docs.python.org/3/library/exceptions.html#ValueError), если такого элемента нет.\n",
    "\n",
    "Необязательные аргументы start и end интерпретируются как запись среза и используются как ограничитель для поиска в конкретной последовательности списка. Возвращаемый индекс вычисляется относительно начала полной последовательности, а не от аргумента start.\n",
    "\n",
    "**list.count(x)**\n",
    "\n",
    "Возвращает какое число раз x добавлен в список.\n",
    "\n"
   ]
  },
  {
   "cell_type": "markdown",
   "metadata": {},
   "source": [
    "Метод **split**\n",
    "\n",
    "Используется для того, чтобы создать список из строки.\n",
    "\n"
   ]
  },
  {
   "cell_type": "code",
   "execution_count": 5,
   "metadata": {},
   "outputs": [
    {
     "data": {
      "text/plain": [
       "['кошка', 'собака', 'хомяк', 'морская свинка', 'попугай', 'лошадь']"
      ]
     },
     "execution_count": 5,
     "metadata": {},
     "output_type": "execute_result"
    }
   ],
   "source": [
    "animals = 'кошка,собака,хомяк,морская свинка,попугай,лошадь'.split(',')\n",
    "animals"
   ]
  },
  {
   "cell_type": "markdown",
   "metadata": {},
   "source": [
    "![](https://lms.skillfactory.ru/asset-v1:SkillFactory+PY-22+10_APR+type@asset+block@use_split.png)"
   ]
  },
  {
   "cell_type": "code",
   "execution_count": 6,
   "metadata": {},
   "outputs": [
    {
     "data": {
      "text/plain": [
       "'кошка,собака,хомяк,морская свинка,попугай,лошадь'"
      ]
     },
     "execution_count": 6,
     "metadata": {},
     "output_type": "execute_result"
    }
   ],
   "source": [
    "#Метод join\n",
    "\n",
    "','.join(animals)\n"
   ]
  },
  {
   "cell_type": "code",
   "execution_count": 7,
   "metadata": {
    "scrolled": true
   },
   "outputs": [
    {
     "data": {
      "text/plain": [
       "'github.com/alnagaev/reni_land/blob/master/'"
      ]
     },
     "execution_count": 7,
     "metadata": {},
     "output_type": "execute_result"
    }
   ],
   "source": [
    "url = 'https://github.com/alnagaev/reni_land/blob/master/'\n",
    "url.split('https://')[1]\n"
   ]
  },
  {
   "cell_type": "markdown",
   "metadata": {},
   "source": [
    "### Индексы\n",
    "\n",
    "Индексация в питоне начинается с 0. Будьте внимательны!"
   ]
  },
  {
   "cell_type": "code",
   "execution_count": 8,
   "metadata": {
    "scrolled": true
   },
   "outputs": [
    {
     "name": "stdout",
     "output_type": "stream",
     "text": [
      "['кошка', 'собака', 'хомяк', 'морская свинка', 'попугай', 'лошадь']\n",
      "кошка\n",
      "собака\n",
      "хомяк\n"
     ]
    }
   ],
   "source": [
    "print(animals)\n",
    "print(animals[0])\n",
    "print(animals[1])\n",
    "print(animals[2])\n",
    "\n"
   ]
  },
  {
   "cell_type": "markdown",
   "metadata": {},
   "source": [
    "Ещё мы можем обращаться к списку с помощью отрицательных индексов.\n",
    "Тогда список будет читаться с конца, справа налево "
   ]
  },
  {
   "cell_type": "code",
   "execution_count": 9,
   "metadata": {},
   "outputs": [
    {
     "name": "stdout",
     "output_type": "stream",
     "text": [
      "лошадь\n",
      "попугай\n"
     ]
    }
   ],
   "source": [
    "print(animals[-1])\n",
    "print(animals[-2])"
   ]
  },
  {
   "cell_type": "markdown",
   "metadata": {},
   "source": [
    "### Задание найти фрукты \n"
   ]
  },
  {
   "cell_type": "code",
   "execution_count": 10,
   "metadata": {},
   "outputs": [
    {
     "data": {
      "text/plain": [
       "['греча', 'банан', 'фасоль', 'рис', 'апельсин']"
      ]
     },
     "execution_count": 10,
     "metadata": {},
     "output_type": "execute_result"
    }
   ],
   "source": [
    "\n",
    "mixed = ['греча', 'банан', 'фасоль', 'рис', 'апельсин']\n",
    "\n",
    "mixed"
   ]
  },
  {
   "cell_type": "markdown",
   "metadata": {},
   "source": [
    "### Метод index() \n",
    "Находим индекс **первого** элемента с определенным значением."
   ]
  },
  {
   "cell_type": "code",
   "execution_count": 11,
   "metadata": {},
   "outputs": [
    {
     "data": {
      "text/plain": [
       "3"
      ]
     },
     "execution_count": 11,
     "metadata": {},
     "output_type": "execute_result"
    }
   ],
   "source": [
    "mixed.index('рис')"
   ]
  },
  {
   "cell_type": "markdown",
   "metadata": {},
   "source": [
    "Если индексов много, то используем цикл и функцию enumerate"
   ]
  },
  {
   "cell_type": "code",
   "execution_count": 12,
   "metadata": {},
   "outputs": [
    {
     "name": "stdout",
     "output_type": "stream",
     "text": [
      "1\n",
      "5\n"
     ]
    }
   ],
   "source": [
    "mixed = ['греча', 'банан', 'фасоль', 'рис', 'апельсин', 'банан']\n",
    "# [index for index, value in enumerate(mixed) if value == 'банан']\n",
    "\n",
    "for index, value in enumerate(mixed):\n",
    "    if value == 'банан':\n",
    "        print(index)"
   ]
  },
  {
   "cell_type": "code",
   "execution_count": null,
   "metadata": {},
   "outputs": [],
   "source": []
  },
  {
   "cell_type": "markdown",
   "metadata": {},
   "source": [
    "## Срезы\n",
    "\n",
    "Инструмент для выделения промежутков/диапозонов внутри списка. Оба индекса указываются в квадратных скобках, между индексами ставится двоеточие."
   ]
  },
  {
   "cell_type": "code",
   "execution_count": 13,
   "metadata": {},
   "outputs": [
    {
     "name": "stdout",
     "output_type": "stream",
     "text": [
      "греча\n",
      "рис\n"
     ]
    }
   ],
   "source": [
    "print(mixed[0])\n",
    "print(mixed[3])"
   ]
  },
  {
   "cell_type": "code",
   "execution_count": 14,
   "metadata": {},
   "outputs": [
    {
     "name": "stdout",
     "output_type": "stream",
     "text": [
      "['греча', 'банан', 'фасоль']\n",
      "рис\n"
     ]
    }
   ],
   "source": [
    "print(mixed[0:3])\n",
    "print(mixed[3])"
   ]
  },
  {
   "cell_type": "markdown",
   "metadata": {},
   "source": [
    "#### list[START:STOP:STEP] - берёт срез от номера START, до STOP **не включая его**, с шагом STEP. По умолчанию START = 0, STOP = длине объекта, STEP = 1. Соответственно, какие-нибудь (а возможно, и все) параметры могут быть опущены."
   ]
  },
  {
   "cell_type": "code",
   "execution_count": 15,
   "metadata": {},
   "outputs": [
    {
     "data": {
      "text/plain": [
       "['греча', 'фасоль', 'апельсин']"
      ]
     },
     "execution_count": 15,
     "metadata": {},
     "output_type": "execute_result"
    }
   ],
   "source": [
    "mixed[::2]"
   ]
  },
  {
   "cell_type": "markdown",
   "metadata": {},
   "source": [
    "Также все эти параметры могут быть и отрицательными:"
   ]
  },
  {
   "cell_type": "code",
   "execution_count": 16,
   "metadata": {},
   "outputs": [
    {
     "data": {
      "text/plain": [
       "['банан', 'апельсин', 'рис', 'фасоль', 'банан', 'греча']"
      ]
     },
     "execution_count": 16,
     "metadata": {},
     "output_type": "execute_result"
    }
   ],
   "source": [
    "mixed[::-1]"
   ]
  },
  {
   "cell_type": "markdown",
   "metadata": {},
   "source": [
    "### Иллюстрация методов работыы со списками"
   ]
  },
  {
   "cell_type": "markdown",
   "metadata": {},
   "source": [
    "### Метод Append\n",
    "\n",
    "Используя метод append, мы можем добавить новое значение к уже существующему списку. Для этого нужно:\n",
    "\n",
    "* указать имя списка;\n",
    "\n",
    "* поставить точку;\n",
    "\n",
    "* после точки написать зарезервированное слово append;\n",
    "\n",
    "* в скобках указать значение, которое следует добавить к списку.\n"
   ]
  },
  {
   "cell_type": "code",
   "execution_count": 17,
   "metadata": {},
   "outputs": [
    {
     "name": "stdout",
     "output_type": "stream",
     "text": [
      "[1, 2, 3, 4, 5, 100500]\n"
     ]
    }
   ],
   "source": [
    "my_list = [1, 2, 3, 4, 5]\n",
    "my_list.append(100500)\n",
    "print(my_list)"
   ]
  },
  {
   "cell_type": "code",
   "execution_count": 18,
   "metadata": {},
   "outputs": [
    {
     "data": {
      "text/plain": [
       "[0, 1, 4, 9, 16, 25, 36, 49, 64, 81]"
      ]
     },
     "execution_count": 18,
     "metadata": {},
     "output_type": "execute_result"
    }
   ],
   "source": [
    "# Использование append для создания списка с нуля\n",
    "squares = []\n",
    "for x in range(10):\n",
    "    squares.append(x ** 2)\n",
    "\n",
    "    \n",
    "squares\n"
   ]
  },
  {
   "cell_type": "code",
   "execution_count": 19,
   "metadata": {},
   "outputs": [
    {
     "name": "stdout",
     "output_type": "stream",
     "text": [
      "5\n",
      "7\n",
      "9\n"
     ]
    }
   ],
   "source": [
    "for i in range(5, 10, 2):\n",
    "    print(i)"
   ]
  },
  {
   "cell_type": "code",
   "execution_count": 20,
   "metadata": {},
   "outputs": [
    {
     "data": {
      "text/plain": [
       "[1, 2, 3, 4, 5, 100500, [1, 45, 6]]"
      ]
     },
     "execution_count": 20,
     "metadata": {},
     "output_type": "execute_result"
    }
   ],
   "source": [
    "my_list.append([1, 45, 6])\n",
    "my_list"
   ]
  },
  {
   "cell_type": "markdown",
   "metadata": {},
   "source": [
    "### Задача на создание списка уникальных значений"
   ]
  },
  {
   "cell_type": "code",
   "execution_count": 39,
   "metadata": {},
   "outputs": [
    {
     "data": {
      "text/plain": [
       "[3, 2, 5, 1]"
      ]
     },
     "execution_count": 39,
     "metadata": {},
     "output_type": "execute_result"
    }
   ],
   "source": [
    "import random\n",
    "randomized = [random.randint(0,5) for i in range(10)]\n",
    "filtered = []\n",
    "\n",
    "for i in randomized:\n",
    "    if i not in filtered:\n",
    "        filtered.append(i)\n",
    "    \n",
    "\n",
    "filtered\n",
    "        "
   ]
  },
  {
   "cell_type": "markdown",
   "metadata": {},
   "source": [
    "**Множества: Для любопытных**\n",
    "    \n",
    "Множества – это неупорядоченные наборы простых объектов. Они необходимы тогда, когда присутствие объекта в наборе важнее порядка или того, сколько раз данный объект там встречается.\n",
    "\n",
    "Используя множества, можно осуществлять проверку принадлежности, определять, является ли данное множество подмножеством другого множества, находить пересечения множеств и так далее.\n",
    "\n",
    "https://pythontutor.ru/lessons/sets/"
   ]
  },
  {
   "cell_type": "code",
   "execution_count": 66,
   "metadata": {},
   "outputs": [
    {
     "name": "stdout",
     "output_type": "stream",
     "text": [
      "{'orange', 'pear', 'banana', 'apple'}\n"
     ]
    }
   ],
   "source": [
    "basket = {'apple', 'orange', 'apple', 'pear', 'orange', 'banana'}\n",
    "print(basket)   "
   ]
  },
  {
   "cell_type": "markdown",
   "metadata": {},
   "source": [
    "### Метод Extend\n",
    "\n",
    "нужен если мы прибавляем список к списку и хотим избежать наслаивания"
   ]
  },
  {
   "cell_type": "code",
   "execution_count": 22,
   "metadata": {},
   "outputs": [
    {
     "data": {
      "text/plain": [
       "[1, 2, 3, 4, 5, 100500, [1, 45, 6], 1, 45, 6]"
      ]
     },
     "execution_count": 22,
     "metadata": {},
     "output_type": "execute_result"
    }
   ],
   "source": [
    "my_list.extend([1, 45, 6])\n",
    "my_list"
   ]
  },
  {
   "cell_type": "markdown",
   "metadata": {},
   "source": [
    "### Метод Remove\n",
    "\n",
    "Избавляемся от первого элемента списка с указанным значением"
   ]
  },
  {
   "cell_type": "code",
   "execution_count": 23,
   "metadata": {
    "scrolled": true
   },
   "outputs": [
    {
     "data": {
      "text/plain": [
       "[1, 2, 3, 4, 5, [1, 45, 6], 1, 45, 6]"
      ]
     },
     "execution_count": 23,
     "metadata": {},
     "output_type": "execute_result"
    }
   ],
   "source": [
    "my_list.remove(100500)\n",
    "my_list"
   ]
  },
  {
   "cell_type": "markdown",
   "metadata": {},
   "source": [
    "### Метод Insert"
   ]
  },
  {
   "cell_type": "code",
   "execution_count": 24,
   "metadata": {},
   "outputs": [
    {
     "name": "stdout",
     "output_type": "stream",
     "text": [
      "['Mathematics', 'chemistry', 10087, 1997, 2000]\n"
     ]
    }
   ],
   "source": [
    "List = ['Mathematics', 'chemistry', 1997, 2000] \n",
    "# Insert at index 2 value 10087 \n",
    "List.insert(2,10087)      \n",
    "print(List) "
   ]
  },
  {
   "cell_type": "markdown",
   "metadata": {},
   "source": [
    "### Сортировка элементов списка"
   ]
  },
  {
   "cell_type": "code",
   "execution_count": 54,
   "metadata": {},
   "outputs": [],
   "source": [
    "randomized = [random.randint(0,5) for i in range(10)]\n"
   ]
  },
  {
   "cell_type": "code",
   "execution_count": 55,
   "metadata": {},
   "outputs": [
    {
     "data": {
      "text/plain": [
       "[0, 0, 0, 1, 1, 1, 2, 3, 3, 4]"
      ]
     },
     "execution_count": 55,
     "metadata": {},
     "output_type": "execute_result"
    }
   ],
   "source": [
    "randomized.sort()\n",
    "randomized"
   ]
  },
  {
   "cell_type": "code",
   "execution_count": 58,
   "metadata": {},
   "outputs": [
    {
     "data": {
      "text/plain": [
       "[0, 0, 0, 1, 1, 1, 2, 3, 3, 4]"
      ]
     },
     "execution_count": 58,
     "metadata": {},
     "output_type": "execute_result"
    }
   ],
   "source": [
    "sorted(randomized)"
   ]
  },
  {
   "cell_type": "code",
   "execution_count": null,
   "metadata": {},
   "outputs": [],
   "source": [
    "fruits = ['a', 'A', 'a']\n",
    "fruits.sort()\n",
    "print(fruits)"
   ]
  },
  {
   "cell_type": "code",
   "execution_count": 65,
   "metadata": {},
   "outputs": [
    {
     "name": "stdout",
     "output_type": "stream",
     "text": [
      "[6, 15, 78]\n"
     ]
    }
   ],
   "source": [
    "#а ещё списки могут быть вложены друг в друга представим, очень часто такое встречается в данных, полученных из REST API\n",
    "\n",
    "array_of_arrays = [[1, 2, 3], [4, 5 ,6], [71, 2, 5]]\n",
    "new_list = []\n",
    "\n",
    "for i in array_of_arrays:\n",
    "    summ = 0\n",
    "    for j in i:\n",
    "        summ = summ + j\n",
    "    new_list.append(summ)\n",
    "    \n",
    "print(new_list)\n",
    "    "
   ]
  },
  {
   "cell_type": "markdown",
   "metadata": {},
   "source": [
    "### Copy\n",
    "возвращает копию списка\n",
    "\n",
    "https://stackoverflow.com/questions/2612802/how-to-clone-or-copy-a-list"
   ]
  },
  {
   "cell_type": "code",
   "execution_count": 60,
   "metadata": {},
   "outputs": [
    {
     "name": "stdout",
     "output_type": "stream",
     "text": [
      " id r: 140360041522832 \n",
      " id f: 140360041522832 \n",
      " id t: 140360006178928\n"
     ]
    }
   ],
   "source": [
    "r = [1, 2, [{'f':5, 'g':6}, 5]]\n",
    "f = r\n",
    "t = r.copy()\n",
    "print(f' id r: {id(r)} \\n id f: {id(f)} \\n id t: {id(t)}')"
   ]
  },
  {
   "cell_type": "code",
   "execution_count": 68,
   "metadata": {},
   "outputs": [
    {
     "name": "stdout",
     "output_type": "stream",
     "text": [
      "Palindrome\n"
     ]
    }
   ],
   "source": [
    "\n",
    "\n",
    "# Палиндром - слово или фраза, которые одинаково читаются слева направо и справа налево.\n",
    "  \n",
    "list1 = [1, 2, 3, 2, 1] \n",
    "  \n",
    "# создаем копию списка \n",
    "list2 = list1.copy()   \n",
    "  \n",
    "# разворачиваем копию \n",
    "list2.reverse()  \n",
    "  \n",
    "# compare reversed and original list  \n",
    "if list1 == list2: \n",
    "    print(\"Palindrome\")  \n",
    "else: \n",
    "    print(\"Not Palindrome\")  \n"
   ]
  },
  {
   "cell_type": "markdown",
   "metadata": {},
   "source": [
    "### Min / Max / Sum"
   ]
  },
  {
   "cell_type": "code",
   "execution_count": null,
   "metadata": {},
   "outputs": [],
   "source": [
    "my_list = [1, 2, 3, 4, 5]\n",
    "print(min(my_list))\n",
    "print(max(my_list))\n",
    "print(sum(my_list))"
   ]
  },
  {
   "cell_type": "markdown",
   "metadata": {},
   "source": [
    "### Генераторы списков\n",
    "\n",
    "Для достижения этих задач в Python используется несколько мощных конструкций, позволяющих создавать краткий, но ёмкий и эффективный код. Одна из таких конструкций — это генераторы списков (list comprehensions). Генератор списка позволяет создать список и заполнить его данными, используя всего одну строку кода. Выглядит это приблизительно так:"
   ]
  },
  {
   "cell_type": "code",
   "execution_count": null,
   "metadata": {},
   "outputs": [],
   "source": [
    "my_list = [x for x in range(10)]\n",
    "\n",
    "my_list"
   ]
  },
  {
   "cell_type": "markdown",
   "metadata": {},
   "source": [
    "Генераторы списков - это гибрид цикла for и списка. Очень мощная конструкция, которая используется чаще, чем map и filter"
   ]
  },
  {
   "cell_type": "code",
   "execution_count": null,
   "metadata": {},
   "outputs": [],
   "source": [
    "squares = [x ** 2 for x in my_list] \n",
    "\n",
    "# равно по смыслу \n",
    "\n",
    "squares\n",
    "\n",
    "for x in range(10):\n",
    "    squares.append(x ** 2)"
   ]
  },
  {
   "cell_type": "code",
   "execution_count": null,
   "metadata": {},
   "outputs": [],
   "source": [
    "my_list = [x for x in range(10, 100) if x%3 == 0 and x%5 == 0]\n",
    "my_list\n"
   ]
  },
  {
   "cell_type": "code",
   "execution_count": 61,
   "metadata": {
    "scrolled": true
   },
   "outputs": [
    {
     "data": {
      "text/plain": [
       "[1,\n",
       " 1,\n",
       " 4,\n",
       " 1024,\n",
       " 9,\n",
       " 59049,\n",
       " 16,\n",
       " 1048576,\n",
       " 25,\n",
       " 9765625,\n",
       " 36,\n",
       " 60466176,\n",
       " 49,\n",
       " 282475249,\n",
       " 64,\n",
       " 1073741824,\n",
       " 81,\n",
       " 3486784401]"
      ]
     },
     "execution_count": 61,
     "metadata": {},
     "output_type": "execute_result"
    }
   ],
   "source": [
    "powers = [x**y for x in range(1, 10) for y in [2,10]]\n",
    "powers\n",
    "\n"
   ]
  },
  {
   "cell_type": "code",
   "execution_count": 63,
   "metadata": {
    "scrolled": true
   },
   "outputs": [
    {
     "data": {
      "text/plain": [
       "[1, 2, 3, 4, 4, 8]"
      ]
     },
     "execution_count": 63,
     "metadata": {},
     "output_type": "execute_result"
    }
   ],
   "source": [
    "a =[3,4,2,8,1,4]\n",
    "b = sorted(a) \n",
    "b"
   ]
  },
  {
   "cell_type": "markdown",
   "metadata": {},
   "source": [
    "### Функция Zip"
   ]
  },
  {
   "cell_type": "code",
   "execution_count": 69,
   "metadata": {},
   "outputs": [
    {
     "data": {
      "text/plain": [
       "[(2, 'P', 2), (1, 'y', 6), (3, 't', 3), (4, 'h', 4)]"
      ]
     },
     "execution_count": 69,
     "metadata": {},
     "output_type": "execute_result"
    }
   ],
   "source": [
    "\n",
    "#Эта функция ещё более специализирована, чем enumerate.\n",
    "#Zip используется для перебора сразу нескольких объектов одновременно.\n",
    "\n",
    "one_iterable = [2, 1, 3, 4, 7, 11]\n",
    "another_iterable = ['P', 'y', 't', 'h', 'o', 'n']\n",
    "third_list = [2, 6, 3, 4]\n",
    "list(zip(one_iterable, another_iterable, third_list))\n",
    "# for n, letter in zip(one_iterable, another_iterable):\n",
    "#     print(letter, n)\n",
    "\n",
    "\n",
    "#По сравнению с enumerate, последняя функция удобна, когда нужна индексация во время цикла.\n",
    "#Если нужно обрабатывать несколько объектов одновременно, zip предпочтительнее enumerate."
   ]
  },
  {
   "cell_type": "markdown",
   "metadata": {},
   "source": [
    "## Словарь"
   ]
  },
  {
   "cell_type": "markdown",
   "metadata": {},
   "source": [
    "Список хорош, когда он один. Но зачастую у нас возникает необходимость хранить несколько связанных списков. \n",
    "Например, номера телефонов и имена покупателей. Или название продуктов и их стоимость. В python есть особый тип данных для хранения такой информации в удобной форме - словарь"
   ]
  },
  {
   "cell_type": "markdown",
   "metadata": {},
   "source": [
    "Словари иногда встречаются в других языках как \"ассоциативные записи\" или \"ассоциативные массивы\". В отличие от последовательностей, которые индексируются диапазоном чисел, словари индексируются по ключам, которые могут быть любым неизменяемым типом; строки и числа всегда могут быть ключами. Кортежи могут быть использованы как ключи, если они содержат только строки, числа или кортежи; если кортеж включает какой-либо изменяемый объект, прямо или косвенно, он не может быть использован в качестве ключа. Вы не можете использовать списки как ключи, поскольку списки могут быть изменены на месте с помощью присваивания по индексу, срезу или такими методами как append() и extend(). Впрочем, использовать кортежи в качестве ключей словаря я вам не советую. Лучше всего в отношении словарей следовать правилам языка **JSON**\n",
    "\n",
    "https://ru.wikipedia.org/wiki/JSON"
   ]
  },
  {
   "cell_type": "code",
   "execution_count": 71,
   "metadata": {},
   "outputs": [
    {
     "name": "stdout",
     "output_type": "stream",
     "text": [
      "28 рублей\n"
     ]
    }
   ],
   "source": [
    "test_dict = {'Банан': '16 рублей', 'Яблоко': '28 рублей', 'k': '15 рублей'}\n",
    "\n",
    "#Обращаемся к элементу с помощью ключа\n",
    "\n",
    "print(test_dict['Яблоко'])"
   ]
  },
  {
   "cell_type": "code",
   "execution_count": 75,
   "metadata": {},
   "outputs": [
    {
     "name": "stdout",
     "output_type": "stream",
     "text": [
      "None\n"
     ]
    },
    {
     "ename": "KeyError",
     "evalue": "'Апельсин'",
     "output_type": "error",
     "traceback": [
      "\u001b[0;31m---------------------------------------------------------------------------\u001b[0m",
      "\u001b[0;31mKeyError\u001b[0m                                  Traceback (most recent call last)",
      "\u001b[0;32m<ipython-input-75-9b8e332f81ea>\u001b[0m in \u001b[0;36m<module>\u001b[0;34m\u001b[0m\n\u001b[1;32m      1\u001b[0m \u001b[0mprint\u001b[0m\u001b[0;34m(\u001b[0m\u001b[0mtest_dict\u001b[0m\u001b[0;34m.\u001b[0m\u001b[0mget\u001b[0m\u001b[0;34m(\u001b[0m\u001b[0;34m'Апельсин'\u001b[0m\u001b[0;34m)\u001b[0m\u001b[0;34m)\u001b[0m \u001b[0;31m# надежный метод получения значения\u001b[0m\u001b[0;34m\u001b[0m\u001b[0;34m\u001b[0m\u001b[0m\n\u001b[0;32m----> 2\u001b[0;31m \u001b[0mprint\u001b[0m\u001b[0;34m(\u001b[0m\u001b[0mtest_dict\u001b[0m\u001b[0;34m[\u001b[0m\u001b[0;34m'Апельсин'\u001b[0m\u001b[0;34m]\u001b[0m\u001b[0;34m)\u001b[0m\u001b[0;31m# ненадежный метод\u001b[0m\u001b[0;34m\u001b[0m\u001b[0;34m\u001b[0m\u001b[0m\n\u001b[0m",
      "\u001b[0;31mKeyError\u001b[0m: 'Апельсин'"
     ]
    }
   ],
   "source": [
    "print(test_dict.get('Апельсин')) # надежный метод получения значения\n",
    "print(test_dict['Апельсин'])# ненадежный метод\n"
   ]
  },
  {
   "cell_type": "code",
   "execution_count": null,
   "metadata": {},
   "outputs": [],
   "source": [
    "#Так же словарь можно создать с помощью функции dict\n",
    "\n",
    "d = dict(short='dict', long='dictionary')\n",
    "d"
   ]
  },
  {
   "cell_type": "markdown",
   "metadata": {},
   "source": [
    "### Генератор словарей"
   ]
  },
  {
   "cell_type": "code",
   "execution_count": null,
   "metadata": {},
   "outputs": [],
   "source": [
    "d = {a: a ** 2 for a in range(7)}\n",
    "d"
   ]
  },
  {
   "cell_type": "code",
   "execution_count": null,
   "metadata": {},
   "outputs": [],
   "source": [
    "r = [1, 2, 3 , 4, 5]\n",
    "t = ['a', 'b', 'c', 'd', 'e']\n",
    "\n",
    "print(list(zip(r,t)))\n",
    "dict(zip(t,r))\n",
    "\n"
   ]
  },
  {
   "cell_type": "markdown",
   "metadata": {},
   "source": [
    "### Метод setdefault\n",
    "\n",
    "Нужен для того, чтобы работать с пропущенными или несозданнами ключами"
   ]
  },
  {
   "cell_type": "code",
   "execution_count": 76,
   "metadata": {},
   "outputs": [
    {
     "data": {
      "text/plain": [
       "['Яблоко', 'Банан', 'Огурец', 'k']"
      ]
     },
     "execution_count": 76,
     "metadata": {},
     "output_type": "execute_result"
    }
   ],
   "source": [
    "products = ['Яблоко', 'Банан', 'Огурец', 'k']\n",
    "products\n"
   ]
  },
  {
   "cell_type": "code",
   "execution_count": 78,
   "metadata": {},
   "outputs": [
    {
     "data": {
      "text/plain": [
       "{'Банан': '16 рублей', 'Яблоко': '28 рублей', 'k': '15 рублей'}"
      ]
     },
     "execution_count": 78,
     "metadata": {},
     "output_type": "execute_result"
    }
   ],
   "source": [
    "test_dict"
   ]
  },
  {
   "cell_type": "code",
   "execution_count": 79,
   "metadata": {},
   "outputs": [
    {
     "name": "stdout",
     "output_type": "stream",
     "text": [
      "28 рублей\n",
      "16 рублей\n",
      "Этого не было в списке\n",
      "15 рублей\n"
     ]
    }
   ],
   "source": [
    "# можно сделать так\n",
    "\n",
    "for product in products:\n",
    "    if product in my_dict:\n",
    "        print(my_dict[product])\n",
    "    else:\n",
    "        print('Этого не было в списке')\n",
    "        \n"
   ]
  },
  {
   "cell_type": "code",
   "execution_count": 84,
   "metadata": {},
   "outputs": [
    {
     "name": "stdout",
     "output_type": "stream",
     "text": [
      "28 рублей\n",
      "16 рублей\n",
      "20 рублей\n",
      "15 рублей\n"
     ]
    }
   ],
   "source": [
    "# но быстрее будет так\n",
    "\n",
    "for product in products:\n",
    "    test_dict.setdefault(product, '20 рублей')\n",
    "    print(test_dict[product])"
   ]
  },
  {
   "cell_type": "code",
   "execution_count": 87,
   "metadata": {},
   "outputs": [
    {
     "name": "stdout",
     "output_type": "stream",
     "text": [
      "Мария Никитина\n",
      "Егор Савичев\n",
      "Александр Пахомов\n",
      "Алина Егорова\n",
      "Руслан Башаров\n"
     ]
    }
   ],
   "source": [
    "#Переборы в словарях\n",
    "\n",
    "employee_base = {'Мария Никитина': 'менеджер', 'Егор Савичев': 'разработчик',\n",
    "                 'Александр Пахомов': 'дизайнер', 'Алина Егорова': 'разработчик',\n",
    "                 'Руслан Башаров': 'верстальщик'}\n",
    "\n",
    "for employee in employee_base:\n",
    "    print(employee)"
   ]
  },
  {
   "cell_type": "code",
   "execution_count": 88,
   "metadata": {},
   "outputs": [
    {
     "data": {
      "text/plain": [
       "{'Мария Никитина': 'разработчик'}"
      ]
     },
     "execution_count": 88,
     "metadata": {},
     "output_type": "execute_result"
    }
   ],
   "source": [
    "example_1 = {'Мария Никитина': 'менеджер', 'Мария Никитина': 'разработчик'}\n",
    "example_1"
   ]
  },
  {
   "cell_type": "code",
   "execution_count": 89,
   "metadata": {},
   "outputs": [
    {
     "name": "stdout",
     "output_type": "stream",
     "text": [
      "менеджер\n",
      "разработчик\n",
      "дизайнер\n",
      "разработчик\n",
      "верстальщик\n"
     ]
    }
   ],
   "source": [
    "for key in employee_base:\n",
    "    print(employee_base[key])"
   ]
  },
  {
   "cell_type": "code",
   "execution_count": 90,
   "metadata": {},
   "outputs": [
    {
     "data": {
      "text/plain": [
       "dict_items([('Мария Никитина', 'менеджер'), ('Егор Савичев', 'разработчик'), ('Александр Пахомов', 'дизайнер'), ('Алина Егорова', 'разработчик'), ('Руслан Башаров', 'верстальщик')])"
      ]
     },
     "execution_count": 90,
     "metadata": {},
     "output_type": "execute_result"
    }
   ],
   "source": [
    "employee_base.items()"
   ]
  },
  {
   "cell_type": "code",
   "execution_count": 91,
   "metadata": {},
   "outputs": [
    {
     "name": "stdout",
     "output_type": "stream",
     "text": [
      "Мария Никитина МЕНЕДЖЕР\n",
      "Егор Савичев РАЗРАБОТЧИК\n",
      "Александр Пахомов ДИЗАЙНЕР\n",
      "Алина Егорова РАЗРАБОТЧИК\n",
      "Руслан Башаров ВЕРСТАЛЬЩИК\n"
     ]
    }
   ],
   "source": [
    "for key, value in employee_base.items():\n",
    "    print(key, value.upper())"
   ]
  },
  {
   "cell_type": "code",
   "execution_count": 92,
   "metadata": {},
   "outputs": [
    {
     "name": "stdout",
     "output_type": "stream",
     "text": [
      "Мария Никитина\n",
      "Егор Савичев\n",
      "Александр Пахомов\n",
      "Алина Егорова\n",
      "Руслан Башаров\n"
     ]
    }
   ],
   "source": [
    "for key in employee_base.keys():\n",
    "    print(key)"
   ]
  },
  {
   "cell_type": "code",
   "execution_count": null,
   "metadata": {},
   "outputs": [],
   "source": [
    "prices = {'apple': 0.40, 'orange': 0.35, 'banana': 0.25}\n",
    "        \n",
    "prices.update(banana = 1)\n",
    "prices"
   ]
  },
  {
   "cell_type": "markdown",
   "metadata": {},
   "source": [
    "### Вложенные словари"
   ]
  },
  {
   "cell_type": "code",
   "execution_count": null,
   "metadata": {},
   "outputs": [],
   "source": [
    "# Часто встречается при работе с конфигурационными файлами, JSON схемами и не только\n",
    "\n",
    "config = {\n",
    "    \"server\": {\n",
    "        \"host\": \"127.0.0.1\",\n",
    "        \"port\": \"22\"\n",
    "    },\n",
    "    \"configuration\": {\n",
    "        \"ssh\": {\n",
    "            \"access\": \"true\",\n",
    "            \"login\": \"some\",\n",
    "            \"password\": \"some\"\n",
    "        }\n",
    "    }\n",
    "}\n",
    "\n"
   ]
  },
  {
   "cell_type": "code",
   "execution_count": null,
   "metadata": {},
   "outputs": [],
   "source": [
    "for key, value in config.items():\n",
    "    print(key, value)\n",
    "    "
   ]
  },
  {
   "cell_type": "code",
   "execution_count": null,
   "metadata": {},
   "outputs": [],
   "source": [
    "config['configuration']['ssh']['login']"
   ]
  },
  {
   "cell_type": "markdown",
   "metadata": {},
   "source": [
    "Списки внутри словарей"
   ]
  },
  {
   "cell_type": "code",
   "execution_count": null,
   "metadata": {},
   "outputs": [],
   "source": [
    "config = {\n",
    "    \"server\": {\n",
    "        \"host\": \"127.0.0.1\",\n",
    "        \"port\": \"22\"\n",
    "    },\n",
    "    \"configuration\": {\n",
    "        \"ssh\": {\n",
    "            \"access\": \"true\",\n",
    "            \"login\": \"some\",\n",
    "            \"password\": \"some\"\n",
    "        }\n",
    "    },\n",
    "    \"methods\": [{'available': 'GET'}, {'forbidden': ['DELETE', 'POST']}]\n",
    "}\n",
    "\n",
    "config['methods'][1]['forbidden'][1]"
   ]
  },
  {
   "cell_type": "markdown",
   "metadata": {},
   "source": [
    "### Реальный пример работы со словарями и списками \n",
    "\n"
   ]
  },
  {
   "cell_type": "code",
   "execution_count": null,
   "metadata": {},
   "outputs": [],
   "source": [
    "response = {'response': [{'id': 42565717,\n",
    "   'name': 'Python',\n",
    "   'screen_name': 'club42565717',\n",
    "   'is_closed': 0,\n",
    "   'type': 'group',\n",
    "   'members_count': 37319,\n",
    "   'activity': 'Открытая группа',\n",
    "   'photo_50': 'https://sun9-127.userapi.com/c845524/v845524906/1a71c2/A2r_4JtmiLQ.jpg?ava=1',\n",
    "   'photo_100': 'https://sun9-58.userapi.com/c845524/v845524906/1a71c1/2fBtsS0k8XY.jpg?ava=1',\n",
    "   'photo_200': 'https://sun9-50.userapi.com/c845524/v845524906/1a71c0/Kfo-eQIn0DU.jpg?ava=1'},\n",
    "                         \n",
    "  {'id': 3183750,\n",
    "   'name': 'Веб программист - PHP, JS, Python, Java, HTML 5',\n",
    "   'screen_name': 'php2all',\n",
    "   'is_closed': 0,\n",
    "   'type': 'page',\n",
    "   'members_count': 117833,\n",
    "   'activity': 'Программирование',\n",
    "   'photo_50': 'https://sun9-54.userapi.com/c626421/v626421613/941/HSj4ylRsk8k.jpg?ava=1',\n",
    "   'photo_100': 'https://sun9-5.userapi.com/c626421/v626421613/940/yKaZLxGShkY.jpg?ava=1',\n",
    "   'photo_200': 'https://sun9-49.userapi.com/c626421/v626421613/93f/2EygT_FJKWg.jpg?ava=1'}]}"
   ]
  },
  {
   "cell_type": "code",
   "execution_count": null,
   "metadata": {
    "scrolled": true
   },
   "outputs": [],
   "source": [
    "response['response']"
   ]
  },
  {
   "cell_type": "code",
   "execution_count": 27,
   "metadata": {
    "scrolled": true
   },
   "outputs": [
    {
     "ename": "NameError",
     "evalue": "name 'response' is not defined",
     "output_type": "error",
     "traceback": [
      "\u001b[0;31m---------------------------------------------------------------------------\u001b[0m",
      "\u001b[0;31mNameError\u001b[0m                                 Traceback (most recent call last)",
      "\u001b[0;32m<ipython-input-27-b018d532ef19>\u001b[0m in \u001b[0;36m<module>\u001b[0;34m\u001b[0m\n\u001b[1;32m      8\u001b[0m     \u001b[0;32mreturn\u001b[0m \u001b[0;34m(\u001b[0m\u001b[0mgroupId\u001b[0m\u001b[0;34m,\u001b[0m \u001b[0mname\u001b[0m\u001b[0;34m,\u001b[0m \u001b[0mmembers_count\u001b[0m\u001b[0;34m,\u001b[0m \u001b[0mactivity\u001b[0m\u001b[0;34m)\u001b[0m\u001b[0;34m\u001b[0m\u001b[0;34m\u001b[0m\u001b[0m\n\u001b[1;32m      9\u001b[0m \u001b[0;34m\u001b[0m\u001b[0m\n\u001b[0;32m---> 10\u001b[0;31m \u001b[0mdata\u001b[0m \u001b[0;34m=\u001b[0m \u001b[0mlist\u001b[0m\u001b[0;34m(\u001b[0m\u001b[0mzip\u001b[0m\u001b[0;34m(\u001b[0m\u001b[0;34m*\u001b[0m\u001b[0mmap\u001b[0m\u001b[0;34m(\u001b[0m\u001b[0mget_info\u001b[0m\u001b[0;34m,\u001b[0m \u001b[0mresponse\u001b[0m\u001b[0;34m[\u001b[0m\u001b[0;34m'response'\u001b[0m\u001b[0;34m]\u001b[0m\u001b[0;34m)\u001b[0m\u001b[0;34m)\u001b[0m\u001b[0;34m)\u001b[0m\u001b[0;34m\u001b[0m\u001b[0;34m\u001b[0m\u001b[0m\n\u001b[0m\u001b[1;32m     11\u001b[0m \u001b[0mdata\u001b[0m\u001b[0;34m\u001b[0m\u001b[0;34m\u001b[0m\u001b[0m\n",
      "\u001b[0;31mNameError\u001b[0m: name 'response' is not defined"
     ]
    }
   ],
   "source": [
    "\n",
    "def get_info(elem):\n",
    "    \n",
    "    groupId = elem['id']\n",
    "    name = elem['name']\n",
    "    members_count = elem['members_count']\n",
    "    activity = elem['activity']\n",
    "    \n",
    "    return (groupId, name, members_count, activity)\n",
    "    \n",
    "data = list(zip(*map(get_info, response['response'])))\n",
    "data"
   ]
  }
 ],
 "metadata": {
  "kernelspec": {
   "display_name": "Python 3",
   "language": "python",
   "name": "python3"
  },
  "language_info": {
   "codemirror_mode": {
    "name": "ipython",
    "version": 3
   },
   "file_extension": ".py",
   "mimetype": "text/x-python",
   "name": "python",
   "nbconvert_exporter": "python",
   "pygments_lexer": "ipython3",
   "version": "3.7.4"
  }
 },
 "nbformat": 4,
 "nbformat_minor": 2
}
